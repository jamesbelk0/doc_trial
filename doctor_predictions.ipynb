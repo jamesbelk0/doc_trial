{
  "nbformat": 4,
  "nbformat_minor": 0,
  "metadata": {
    "colab": {
      "provenance": [],
      "collapsed_sections": [
        "XmH4ltGJEBWT",
        "Kw-J5TxeBYpc"
      ],
      "toc_visible": true
    },
    "kernelspec": {
      "name": "python3",
      "display_name": "Python 3"
    },
    "language_info": {
      "name": "python"
    }
  },
  "cells": [
    {
      "cell_type": "markdown",
      "source": [
        "# Belt Exam - Machine Learning - Option A - Drug Type\n",
        "\n",
        "* James Belk\n",
        "* 02/11/2023"
      ],
      "metadata": {
        "id": "faiyEVDsd4F2"
      }
    },
    {
      "cell_type": "markdown",
      "source": [
        "## Project Desciption\n",
        "\n",
        "**Task**\n",
        "\n",
        "\n",
        "*   Provide a classification model to help the doctor find the best course of treatment. Labels will be 'drugQ' or 'drugZ'.\n",
        "\n",
        "\n"
      ],
      "metadata": {
        "id": "oVyesE-9eWaR"
      }
    },
    {
      "cell_type": "markdown",
      "source": [
        "### Import Libraries"
      ],
      "metadata": {
        "id": "gnJ-tlq1eMOj"
      }
    },
    {
      "cell_type": "code",
      "source": [
        "## Pandas\n",
        "import pandas as pd\n",
        "## Numpy\n",
        "import numpy as np\n",
        "## MatplotLib\n",
        "import matplotlib.pyplot as plt\n",
        "## Seaborn\n",
        "import seaborn as sns\n",
        "\n",
        "## Preprocessing\n",
        "from sklearn.model_selection import train_test_split\n",
        "from sklearn.compose import make_column_selector \n",
        "from sklearn.impute import SimpleImputer\n",
        "from sklearn.preprocessing import StandardScaler, OneHotEncoder\n",
        "from sklearn.pipeline import make_pipeline\n",
        "from sklearn.compose import make_column_transformer\n",
        "\n",
        "## Models\n",
        "from sklearn.linear_model import LogisticRegression\n",
        "from sklearn.neighbors import KNeighborsClassifier\n",
        "\n",
        "## Classification Metrics\n",
        "from sklearn.metrics import roc_auc_score, ConfusionMatrixDisplay, PrecisionRecallDisplay, RocCurveDisplay, f1_score, accuracy_score, classification_report\n",
        "\n",
        "## Set global scikit-learn configuration \n",
        "from sklearn import set_config\n",
        "## Display estimators as a diagram\n",
        "set_config(display='diagram') # 'text' or 'diagram'}"
      ],
      "metadata": {
        "id": "va-H6-NBeOEe"
      },
      "execution_count": 1,
      "outputs": []
    },
    {
      "cell_type": "markdown",
      "source": [
        "### Functions"
      ],
      "metadata": {
        "id": "_qEQPf4yeOjC"
      }
    },
    {
      "cell_type": "code",
      "source": [
        "def classification_metrics(model, X_test, y_test, label='Test Data', \n",
        "                             figsize=(15,5), normalize='true',\n",
        "                             cmap='Greens'): \n",
        "                             \n",
        "    fig, axes = plt.subplots(1,2, figsize=figsize)\n",
        "\n",
        "    ## Get the predictions\n",
        "    y_pred = model.predict(X_test)\n",
        "     \n",
        "   ## Print classification report for the test data (and make it pretty!)\n",
        "    print('---'*20)\n",
        "    print(f\"[i] CLASSIFICATION REPORT FOR: {label}\")\n",
        "    print('---'*20)\n",
        "\n",
        "    print(classification_report(y_test, y_pred))\n",
        "\n",
        "    ConfusionMatrixDisplay.from_predictions(y_test,y_pred, \n",
        "                normalize=normalize, cmap=cmap,              \n",
        "                ax=axes[0])    \n",
        "    \n",
        "    RocCurveDisplay.from_estimator(model, X_test, y_test,\n",
        "                                   ax=axes[1])\n",
        "    plt.show()\n",
        "    "
      ],
      "metadata": {
        "id": "PS2COJQgePfY"
      },
      "execution_count": 68,
      "outputs": []
    },
    {
      "cell_type": "markdown",
      "source": [
        "### Load Data"
      ],
      "metadata": {
        "id": "rO6jGMLzePk9"
      }
    },
    {
      "cell_type": "code",
      "source": [
        "df = pd.read_csv('/content/Belt2_A_drugtype_v2_final.csv')"
      ],
      "metadata": {
        "id": "pyY3lTxie1Un"
      },
      "execution_count": 2,
      "outputs": []
    },
    {
      "cell_type": "markdown",
      "source": [
        "### Inspect the Data"
      ],
      "metadata": {
        "id": "dEsRzlbNe1fo"
      }
    },
    {
      "cell_type": "code",
      "source": [
        "# Display the first 5 rows\n",
        "df.head()"
      ],
      "metadata": {
        "colab": {
          "base_uri": "https://localhost:8080/",
          "height": 206
        },
        "id": "PfVzt4Lje3r1",
        "outputId": "1a83e0d9-d6b2-48e9-b9a5-48bd03d8c4e4"
      },
      "execution_count": 3,
      "outputs": [
        {
          "output_type": "execute_result",
          "data": {
            "text/plain": [
              "    Age Gender      BP Cholesterol Na_to_K   Drug\n",
              "0  59.0      M    High        HIGH  13.935  drugQ\n",
              "1  40.0      F  Normal        HIGH  10.103  drugZ\n",
              "2   NaN      M  Normal        HIGH   9.084  drugZ\n",
              "3  62.0      M  Normal        HIGH  16.594  drugZ\n",
              "4  55.0      F    High      NORMAL  10.977  drugQ"
            ],
            "text/html": [
              "\n",
              "  <div id=\"df-7f0416ee-4700-42bd-936e-9fb74260db8b\">\n",
              "    <div class=\"colab-df-container\">\n",
              "      <div>\n",
              "<style scoped>\n",
              "    .dataframe tbody tr th:only-of-type {\n",
              "        vertical-align: middle;\n",
              "    }\n",
              "\n",
              "    .dataframe tbody tr th {\n",
              "        vertical-align: top;\n",
              "    }\n",
              "\n",
              "    .dataframe thead th {\n",
              "        text-align: right;\n",
              "    }\n",
              "</style>\n",
              "<table border=\"1\" class=\"dataframe\">\n",
              "  <thead>\n",
              "    <tr style=\"text-align: right;\">\n",
              "      <th></th>\n",
              "      <th>Age</th>\n",
              "      <th>Gender</th>\n",
              "      <th>BP</th>\n",
              "      <th>Cholesterol</th>\n",
              "      <th>Na_to_K</th>\n",
              "      <th>Drug</th>\n",
              "    </tr>\n",
              "  </thead>\n",
              "  <tbody>\n",
              "    <tr>\n",
              "      <th>0</th>\n",
              "      <td>59.0</td>\n",
              "      <td>M</td>\n",
              "      <td>High</td>\n",
              "      <td>HIGH</td>\n",
              "      <td>13.935</td>\n",
              "      <td>drugQ</td>\n",
              "    </tr>\n",
              "    <tr>\n",
              "      <th>1</th>\n",
              "      <td>40.0</td>\n",
              "      <td>F</td>\n",
              "      <td>Normal</td>\n",
              "      <td>HIGH</td>\n",
              "      <td>10.103</td>\n",
              "      <td>drugZ</td>\n",
              "    </tr>\n",
              "    <tr>\n",
              "      <th>2</th>\n",
              "      <td>NaN</td>\n",
              "      <td>M</td>\n",
              "      <td>Normal</td>\n",
              "      <td>HIGH</td>\n",
              "      <td>9.084</td>\n",
              "      <td>drugZ</td>\n",
              "    </tr>\n",
              "    <tr>\n",
              "      <th>3</th>\n",
              "      <td>62.0</td>\n",
              "      <td>M</td>\n",
              "      <td>Normal</td>\n",
              "      <td>HIGH</td>\n",
              "      <td>16.594</td>\n",
              "      <td>drugZ</td>\n",
              "    </tr>\n",
              "    <tr>\n",
              "      <th>4</th>\n",
              "      <td>55.0</td>\n",
              "      <td>F</td>\n",
              "      <td>High</td>\n",
              "      <td>NORMAL</td>\n",
              "      <td>10.977</td>\n",
              "      <td>drugQ</td>\n",
              "    </tr>\n",
              "  </tbody>\n",
              "</table>\n",
              "</div>\n",
              "      <button class=\"colab-df-convert\" onclick=\"convertToInteractive('df-7f0416ee-4700-42bd-936e-9fb74260db8b')\"\n",
              "              title=\"Convert this dataframe to an interactive table.\"\n",
              "              style=\"display:none;\">\n",
              "        \n",
              "  <svg xmlns=\"http://www.w3.org/2000/svg\" height=\"24px\"viewBox=\"0 0 24 24\"\n",
              "       width=\"24px\">\n",
              "    <path d=\"M0 0h24v24H0V0z\" fill=\"none\"/>\n",
              "    <path d=\"M18.56 5.44l.94 2.06.94-2.06 2.06-.94-2.06-.94-.94-2.06-.94 2.06-2.06.94zm-11 1L8.5 8.5l.94-2.06 2.06-.94-2.06-.94L8.5 2.5l-.94 2.06-2.06.94zm10 10l.94 2.06.94-2.06 2.06-.94-2.06-.94-.94-2.06-.94 2.06-2.06.94z\"/><path d=\"M17.41 7.96l-1.37-1.37c-.4-.4-.92-.59-1.43-.59-.52 0-1.04.2-1.43.59L10.3 9.45l-7.72 7.72c-.78.78-.78 2.05 0 2.83L4 21.41c.39.39.9.59 1.41.59.51 0 1.02-.2 1.41-.59l7.78-7.78 2.81-2.81c.8-.78.8-2.07 0-2.86zM5.41 20L4 18.59l7.72-7.72 1.47 1.35L5.41 20z\"/>\n",
              "  </svg>\n",
              "      </button>\n",
              "      \n",
              "  <style>\n",
              "    .colab-df-container {\n",
              "      display:flex;\n",
              "      flex-wrap:wrap;\n",
              "      gap: 12px;\n",
              "    }\n",
              "\n",
              "    .colab-df-convert {\n",
              "      background-color: #E8F0FE;\n",
              "      border: none;\n",
              "      border-radius: 50%;\n",
              "      cursor: pointer;\n",
              "      display: none;\n",
              "      fill: #1967D2;\n",
              "      height: 32px;\n",
              "      padding: 0 0 0 0;\n",
              "      width: 32px;\n",
              "    }\n",
              "\n",
              "    .colab-df-convert:hover {\n",
              "      background-color: #E2EBFA;\n",
              "      box-shadow: 0px 1px 2px rgba(60, 64, 67, 0.3), 0px 1px 3px 1px rgba(60, 64, 67, 0.15);\n",
              "      fill: #174EA6;\n",
              "    }\n",
              "\n",
              "    [theme=dark] .colab-df-convert {\n",
              "      background-color: #3B4455;\n",
              "      fill: #D2E3FC;\n",
              "    }\n",
              "\n",
              "    [theme=dark] .colab-df-convert:hover {\n",
              "      background-color: #434B5C;\n",
              "      box-shadow: 0px 1px 3px 1px rgba(0, 0, 0, 0.15);\n",
              "      filter: drop-shadow(0px 1px 2px rgba(0, 0, 0, 0.3));\n",
              "      fill: #FFFFFF;\n",
              "    }\n",
              "  </style>\n",
              "\n",
              "      <script>\n",
              "        const buttonEl =\n",
              "          document.querySelector('#df-7f0416ee-4700-42bd-936e-9fb74260db8b button.colab-df-convert');\n",
              "        buttonEl.style.display =\n",
              "          google.colab.kernel.accessAllowed ? 'block' : 'none';\n",
              "\n",
              "        async function convertToInteractive(key) {\n",
              "          const element = document.querySelector('#df-7f0416ee-4700-42bd-936e-9fb74260db8b');\n",
              "          const dataTable =\n",
              "            await google.colab.kernel.invokeFunction('convertToInteractive',\n",
              "                                                     [key], {});\n",
              "          if (!dataTable) return;\n",
              "\n",
              "          const docLinkHtml = 'Like what you see? Visit the ' +\n",
              "            '<a target=\"_blank\" href=https://colab.research.google.com/notebooks/data_table.ipynb>data table notebook</a>'\n",
              "            + ' to learn more about interactive tables.';\n",
              "          element.innerHTML = '';\n",
              "          dataTable['output_type'] = 'display_data';\n",
              "          await google.colab.output.renderOutput(dataTable, element);\n",
              "          const docLink = document.createElement('div');\n",
              "          docLink.innerHTML = docLinkHtml;\n",
              "          element.appendChild(docLink);\n",
              "        }\n",
              "      </script>\n",
              "    </div>\n",
              "  </div>\n",
              "  "
            ]
          },
          "metadata": {},
          "execution_count": 3
        }
      ]
    },
    {
      "cell_type": "markdown",
      "source": [
        "* The data has loaded correctly"
      ],
      "metadata": {
        "id": "YESH08IxfWpW"
      }
    },
    {
      "cell_type": "code",
      "source": [
        "# Display the number of rows and columns for the dataframe\n",
        "df.shape\n",
        "print(f'There are {df.shape[0]} rows, and {df.shape[1]} columns.')\n",
        "print(f'The rows represent {df.shape[0]} observations, and the columns represent {df.shape[1]-1} features and 1 target variable. In this case \"Drug\".')"
      ],
      "metadata": {
        "colab": {
          "base_uri": "https://localhost:8080/"
        },
        "id": "nFXhV5HLfYtd",
        "outputId": "fdd829b6-17d5-45dd-e0b5-bc321d8c1b73"
      },
      "execution_count": 4,
      "outputs": [
        {
          "output_type": "stream",
          "name": "stdout",
          "text": [
            "There are 296 rows, and 6 columns.\n",
            "The rows represent 296 observations, and the columns represent 5 features and 1 target variable. In this case \"Drug\".\n"
          ]
        }
      ]
    },
    {
      "cell_type": "code",
      "source": [
        "# Display the column names, count of non-null values, and their datatypes\n",
        "df.info()"
      ],
      "metadata": {
        "colab": {
          "base_uri": "https://localhost:8080/"
        },
        "id": "3PYN0wqcfwpI",
        "outputId": "5aa80f26-28fd-49bf-9468-3e41f88937e4"
      },
      "execution_count": 5,
      "outputs": [
        {
          "output_type": "stream",
          "name": "stdout",
          "text": [
            "<class 'pandas.core.frame.DataFrame'>\n",
            "RangeIndex: 296 entries, 0 to 295\n",
            "Data columns (total 6 columns):\n",
            " #   Column       Non-Null Count  Dtype  \n",
            "---  ------       --------------  -----  \n",
            " 0   Age          237 non-null    float64\n",
            " 1   Gender       296 non-null    object \n",
            " 2   BP           221 non-null    object \n",
            " 3   Cholesterol  296 non-null    object \n",
            " 4   Na_to_K      296 non-null    object \n",
            " 5   Drug         296 non-null    object \n",
            "dtypes: float64(1), object(5)\n",
            "memory usage: 14.0+ KB\n"
          ]
        }
      ]
    },
    {
      "cell_type": "code",
      "source": [
        "# Display the descriptive statistics for the numeric/object columns\n",
        "display(df.describe(include='object'))\n",
        "display(df.describe(include='number'))"
      ],
      "metadata": {
        "colab": {
          "base_uri": "https://localhost:8080/",
          "height": 457
        },
        "id": "HPeV80Ldf8GG",
        "outputId": "652ad901-d418-42fd-e5cd-9e0900e3f240"
      },
      "execution_count": 6,
      "outputs": [
        {
          "output_type": "display_data",
          "data": {
            "text/plain": [
              "       Gender    BP Cholesterol Na_to_K   Drug\n",
              "count     296   221         296     296    296\n",
              "unique      8     3           5     183      2\n",
              "top         M  High        HIGH  12.307  drugQ\n",
              "freq      149   142         156       7    148"
            ],
            "text/html": [
              "\n",
              "  <div id=\"df-e4794cc7-f16b-4d53-ac47-d568b81c0169\">\n",
              "    <div class=\"colab-df-container\">\n",
              "      <div>\n",
              "<style scoped>\n",
              "    .dataframe tbody tr th:only-of-type {\n",
              "        vertical-align: middle;\n",
              "    }\n",
              "\n",
              "    .dataframe tbody tr th {\n",
              "        vertical-align: top;\n",
              "    }\n",
              "\n",
              "    .dataframe thead th {\n",
              "        text-align: right;\n",
              "    }\n",
              "</style>\n",
              "<table border=\"1\" class=\"dataframe\">\n",
              "  <thead>\n",
              "    <tr style=\"text-align: right;\">\n",
              "      <th></th>\n",
              "      <th>Gender</th>\n",
              "      <th>BP</th>\n",
              "      <th>Cholesterol</th>\n",
              "      <th>Na_to_K</th>\n",
              "      <th>Drug</th>\n",
              "    </tr>\n",
              "  </thead>\n",
              "  <tbody>\n",
              "    <tr>\n",
              "      <th>count</th>\n",
              "      <td>296</td>\n",
              "      <td>221</td>\n",
              "      <td>296</td>\n",
              "      <td>296</td>\n",
              "      <td>296</td>\n",
              "    </tr>\n",
              "    <tr>\n",
              "      <th>unique</th>\n",
              "      <td>8</td>\n",
              "      <td>3</td>\n",
              "      <td>5</td>\n",
              "      <td>183</td>\n",
              "      <td>2</td>\n",
              "    </tr>\n",
              "    <tr>\n",
              "      <th>top</th>\n",
              "      <td>M</td>\n",
              "      <td>High</td>\n",
              "      <td>HIGH</td>\n",
              "      <td>12.307</td>\n",
              "      <td>drugQ</td>\n",
              "    </tr>\n",
              "    <tr>\n",
              "      <th>freq</th>\n",
              "      <td>149</td>\n",
              "      <td>142</td>\n",
              "      <td>156</td>\n",
              "      <td>7</td>\n",
              "      <td>148</td>\n",
              "    </tr>\n",
              "  </tbody>\n",
              "</table>\n",
              "</div>\n",
              "      <button class=\"colab-df-convert\" onclick=\"convertToInteractive('df-e4794cc7-f16b-4d53-ac47-d568b81c0169')\"\n",
              "              title=\"Convert this dataframe to an interactive table.\"\n",
              "              style=\"display:none;\">\n",
              "        \n",
              "  <svg xmlns=\"http://www.w3.org/2000/svg\" height=\"24px\"viewBox=\"0 0 24 24\"\n",
              "       width=\"24px\">\n",
              "    <path d=\"M0 0h24v24H0V0z\" fill=\"none\"/>\n",
              "    <path d=\"M18.56 5.44l.94 2.06.94-2.06 2.06-.94-2.06-.94-.94-2.06-.94 2.06-2.06.94zm-11 1L8.5 8.5l.94-2.06 2.06-.94-2.06-.94L8.5 2.5l-.94 2.06-2.06.94zm10 10l.94 2.06.94-2.06 2.06-.94-2.06-.94-.94-2.06-.94 2.06-2.06.94z\"/><path d=\"M17.41 7.96l-1.37-1.37c-.4-.4-.92-.59-1.43-.59-.52 0-1.04.2-1.43.59L10.3 9.45l-7.72 7.72c-.78.78-.78 2.05 0 2.83L4 21.41c.39.39.9.59 1.41.59.51 0 1.02-.2 1.41-.59l7.78-7.78 2.81-2.81c.8-.78.8-2.07 0-2.86zM5.41 20L4 18.59l7.72-7.72 1.47 1.35L5.41 20z\"/>\n",
              "  </svg>\n",
              "      </button>\n",
              "      \n",
              "  <style>\n",
              "    .colab-df-container {\n",
              "      display:flex;\n",
              "      flex-wrap:wrap;\n",
              "      gap: 12px;\n",
              "    }\n",
              "\n",
              "    .colab-df-convert {\n",
              "      background-color: #E8F0FE;\n",
              "      border: none;\n",
              "      border-radius: 50%;\n",
              "      cursor: pointer;\n",
              "      display: none;\n",
              "      fill: #1967D2;\n",
              "      height: 32px;\n",
              "      padding: 0 0 0 0;\n",
              "      width: 32px;\n",
              "    }\n",
              "\n",
              "    .colab-df-convert:hover {\n",
              "      background-color: #E2EBFA;\n",
              "      box-shadow: 0px 1px 2px rgba(60, 64, 67, 0.3), 0px 1px 3px 1px rgba(60, 64, 67, 0.15);\n",
              "      fill: #174EA6;\n",
              "    }\n",
              "\n",
              "    [theme=dark] .colab-df-convert {\n",
              "      background-color: #3B4455;\n",
              "      fill: #D2E3FC;\n",
              "    }\n",
              "\n",
              "    [theme=dark] .colab-df-convert:hover {\n",
              "      background-color: #434B5C;\n",
              "      box-shadow: 0px 1px 3px 1px rgba(0, 0, 0, 0.15);\n",
              "      filter: drop-shadow(0px 1px 2px rgba(0, 0, 0, 0.3));\n",
              "      fill: #FFFFFF;\n",
              "    }\n",
              "  </style>\n",
              "\n",
              "      <script>\n",
              "        const buttonEl =\n",
              "          document.querySelector('#df-e4794cc7-f16b-4d53-ac47-d568b81c0169 button.colab-df-convert');\n",
              "        buttonEl.style.display =\n",
              "          google.colab.kernel.accessAllowed ? 'block' : 'none';\n",
              "\n",
              "        async function convertToInteractive(key) {\n",
              "          const element = document.querySelector('#df-e4794cc7-f16b-4d53-ac47-d568b81c0169');\n",
              "          const dataTable =\n",
              "            await google.colab.kernel.invokeFunction('convertToInteractive',\n",
              "                                                     [key], {});\n",
              "          if (!dataTable) return;\n",
              "\n",
              "          const docLinkHtml = 'Like what you see? Visit the ' +\n",
              "            '<a target=\"_blank\" href=https://colab.research.google.com/notebooks/data_table.ipynb>data table notebook</a>'\n",
              "            + ' to learn more about interactive tables.';\n",
              "          element.innerHTML = '';\n",
              "          dataTable['output_type'] = 'display_data';\n",
              "          await google.colab.output.renderOutput(dataTable, element);\n",
              "          const docLink = document.createElement('div');\n",
              "          docLink.innerHTML = docLinkHtml;\n",
              "          element.appendChild(docLink);\n",
              "        }\n",
              "      </script>\n",
              "    </div>\n",
              "  </div>\n",
              "  "
            ]
          },
          "metadata": {}
        },
        {
          "output_type": "display_data",
          "data": {
            "text/plain": [
              "              Age\n",
              "count  237.000000\n",
              "mean    47.523207\n",
              "std     37.700488\n",
              "min     15.000000\n",
              "25%     32.000000\n",
              "50%     45.000000\n",
              "75%     59.000000\n",
              "max    570.000000"
            ],
            "text/html": [
              "\n",
              "  <div id=\"df-e87a1f3c-ca67-4731-b013-93bcfe31fc52\">\n",
              "    <div class=\"colab-df-container\">\n",
              "      <div>\n",
              "<style scoped>\n",
              "    .dataframe tbody tr th:only-of-type {\n",
              "        vertical-align: middle;\n",
              "    }\n",
              "\n",
              "    .dataframe tbody tr th {\n",
              "        vertical-align: top;\n",
              "    }\n",
              "\n",
              "    .dataframe thead th {\n",
              "        text-align: right;\n",
              "    }\n",
              "</style>\n",
              "<table border=\"1\" class=\"dataframe\">\n",
              "  <thead>\n",
              "    <tr style=\"text-align: right;\">\n",
              "      <th></th>\n",
              "      <th>Age</th>\n",
              "    </tr>\n",
              "  </thead>\n",
              "  <tbody>\n",
              "    <tr>\n",
              "      <th>count</th>\n",
              "      <td>237.000000</td>\n",
              "    </tr>\n",
              "    <tr>\n",
              "      <th>mean</th>\n",
              "      <td>47.523207</td>\n",
              "    </tr>\n",
              "    <tr>\n",
              "      <th>std</th>\n",
              "      <td>37.700488</td>\n",
              "    </tr>\n",
              "    <tr>\n",
              "      <th>min</th>\n",
              "      <td>15.000000</td>\n",
              "    </tr>\n",
              "    <tr>\n",
              "      <th>25%</th>\n",
              "      <td>32.000000</td>\n",
              "    </tr>\n",
              "    <tr>\n",
              "      <th>50%</th>\n",
              "      <td>45.000000</td>\n",
              "    </tr>\n",
              "    <tr>\n",
              "      <th>75%</th>\n",
              "      <td>59.000000</td>\n",
              "    </tr>\n",
              "    <tr>\n",
              "      <th>max</th>\n",
              "      <td>570.000000</td>\n",
              "    </tr>\n",
              "  </tbody>\n",
              "</table>\n",
              "</div>\n",
              "      <button class=\"colab-df-convert\" onclick=\"convertToInteractive('df-e87a1f3c-ca67-4731-b013-93bcfe31fc52')\"\n",
              "              title=\"Convert this dataframe to an interactive table.\"\n",
              "              style=\"display:none;\">\n",
              "        \n",
              "  <svg xmlns=\"http://www.w3.org/2000/svg\" height=\"24px\"viewBox=\"0 0 24 24\"\n",
              "       width=\"24px\">\n",
              "    <path d=\"M0 0h24v24H0V0z\" fill=\"none\"/>\n",
              "    <path d=\"M18.56 5.44l.94 2.06.94-2.06 2.06-.94-2.06-.94-.94-2.06-.94 2.06-2.06.94zm-11 1L8.5 8.5l.94-2.06 2.06-.94-2.06-.94L8.5 2.5l-.94 2.06-2.06.94zm10 10l.94 2.06.94-2.06 2.06-.94-2.06-.94-.94-2.06-.94 2.06-2.06.94z\"/><path d=\"M17.41 7.96l-1.37-1.37c-.4-.4-.92-.59-1.43-.59-.52 0-1.04.2-1.43.59L10.3 9.45l-7.72 7.72c-.78.78-.78 2.05 0 2.83L4 21.41c.39.39.9.59 1.41.59.51 0 1.02-.2 1.41-.59l7.78-7.78 2.81-2.81c.8-.78.8-2.07 0-2.86zM5.41 20L4 18.59l7.72-7.72 1.47 1.35L5.41 20z\"/>\n",
              "  </svg>\n",
              "      </button>\n",
              "      \n",
              "  <style>\n",
              "    .colab-df-container {\n",
              "      display:flex;\n",
              "      flex-wrap:wrap;\n",
              "      gap: 12px;\n",
              "    }\n",
              "\n",
              "    .colab-df-convert {\n",
              "      background-color: #E8F0FE;\n",
              "      border: none;\n",
              "      border-radius: 50%;\n",
              "      cursor: pointer;\n",
              "      display: none;\n",
              "      fill: #1967D2;\n",
              "      height: 32px;\n",
              "      padding: 0 0 0 0;\n",
              "      width: 32px;\n",
              "    }\n",
              "\n",
              "    .colab-df-convert:hover {\n",
              "      background-color: #E2EBFA;\n",
              "      box-shadow: 0px 1px 2px rgba(60, 64, 67, 0.3), 0px 1px 3px 1px rgba(60, 64, 67, 0.15);\n",
              "      fill: #174EA6;\n",
              "    }\n",
              "\n",
              "    [theme=dark] .colab-df-convert {\n",
              "      background-color: #3B4455;\n",
              "      fill: #D2E3FC;\n",
              "    }\n",
              "\n",
              "    [theme=dark] .colab-df-convert:hover {\n",
              "      background-color: #434B5C;\n",
              "      box-shadow: 0px 1px 3px 1px rgba(0, 0, 0, 0.15);\n",
              "      filter: drop-shadow(0px 1px 2px rgba(0, 0, 0, 0.3));\n",
              "      fill: #FFFFFF;\n",
              "    }\n",
              "  </style>\n",
              "\n",
              "      <script>\n",
              "        const buttonEl =\n",
              "          document.querySelector('#df-e87a1f3c-ca67-4731-b013-93bcfe31fc52 button.colab-df-convert');\n",
              "        buttonEl.style.display =\n",
              "          google.colab.kernel.accessAllowed ? 'block' : 'none';\n",
              "\n",
              "        async function convertToInteractive(key) {\n",
              "          const element = document.querySelector('#df-e87a1f3c-ca67-4731-b013-93bcfe31fc52');\n",
              "          const dataTable =\n",
              "            await google.colab.kernel.invokeFunction('convertToInteractive',\n",
              "                                                     [key], {});\n",
              "          if (!dataTable) return;\n",
              "\n",
              "          const docLinkHtml = 'Like what you see? Visit the ' +\n",
              "            '<a target=\"_blank\" href=https://colab.research.google.com/notebooks/data_table.ipynb>data table notebook</a>'\n",
              "            + ' to learn more about interactive tables.';\n",
              "          element.innerHTML = '';\n",
              "          dataTable['output_type'] = 'display_data';\n",
              "          await google.colab.output.renderOutput(dataTable, element);\n",
              "          const docLink = document.createElement('div');\n",
              "          docLink.innerHTML = docLinkHtml;\n",
              "          element.appendChild(docLink);\n",
              "        }\n",
              "      </script>\n",
              "    </div>\n",
              "  </div>\n",
              "  "
            ]
          },
          "metadata": {}
        }
      ]
    },
    {
      "cell_type": "markdown",
      "source": [
        "* Data looks to be in order. However cleaning is required."
      ],
      "metadata": {
        "id": "i4vXkUhBgSiv"
      }
    },
    {
      "cell_type": "markdown",
      "source": [
        "## Create a Copy of the Dataset"
      ],
      "metadata": {
        "id": "2bv0YMobgjrf"
      }
    },
    {
      "cell_type": "code",
      "source": [
        "# Make a copy of the dataset for machine learning\n",
        "ml_df = df.copy()"
      ],
      "metadata": {
        "id": "apSKhC86giuU"
      },
      "execution_count": 7,
      "outputs": []
    },
    {
      "cell_type": "markdown",
      "source": [
        "## Clean the Data"
      ],
      "metadata": {
        "id": "sB5NZXWkgrAx"
      }
    },
    {
      "cell_type": "markdown",
      "source": [
        "### Remove Unnecessary Columns/Rows\n",
        "\n",
        "* No need to drop columns"
      ],
      "metadata": {
        "id": "lzBH-T_Tg5a_"
      }
    },
    {
      "cell_type": "code",
      "source": [
        "# Display the number of duplicate rows in the dataset\n",
        "print(f'There are {ml_df.duplicated().sum()} duplicate rows.')"
      ],
      "metadata": {
        "colab": {
          "base_uri": "https://localhost:8080/"
        },
        "id": "d1_a2Nlwg26S",
        "outputId": "519d46dd-4fb6-4e3b-f318-59990be75363"
      },
      "execution_count": 8,
      "outputs": [
        {
          "output_type": "stream",
          "name": "stdout",
          "text": [
            "There are 15 duplicate rows.\n"
          ]
        }
      ]
    },
    {
      "cell_type": "code",
      "source": [
        "# Drop duplicate rows\n",
        "ml_df = ml_df.drop_duplicates()\n",
        "print(f'There are {ml_df.duplicated().sum()} duplicate rows.')"
      ],
      "metadata": {
        "colab": {
          "base_uri": "https://localhost:8080/"
        },
        "id": "bKSC8_53hDE7",
        "outputId": "f19eedb7-ba56-485e-b7c5-7d1508034d1e"
      },
      "execution_count": 9,
      "outputs": [
        {
          "output_type": "stream",
          "name": "stdout",
          "text": [
            "There are 0 duplicate rows.\n"
          ]
        }
      ]
    },
    {
      "cell_type": "markdown",
      "source": [
        "### Inspect Column Datatypes for Errors"
      ],
      "metadata": {
        "id": "T0Nxl6DaiJu1"
      }
    },
    {
      "cell_type": "code",
      "source": [
        "df.dtypes"
      ],
      "metadata": {
        "colab": {
          "base_uri": "https://localhost:8080/"
        },
        "id": "pFEsjqeeiMaw",
        "outputId": "89c31a01-488e-4176-ba60-5628f9f1f0f0"
      },
      "execution_count": 10,
      "outputs": [
        {
          "output_type": "execute_result",
          "data": {
            "text/plain": [
              "Age            float64\n",
              "Gender          object\n",
              "BP              object\n",
              "Cholesterol     object\n",
              "Na_to_K         object\n",
              "Drug            object\n",
              "dtype: object"
            ]
          },
          "metadata": {},
          "execution_count": 10
        }
      ]
    },
    {
      "cell_type": "markdown",
      "source": [
        "* Na_to_K needs to be turned into a float64. Will take care of during processing. "
      ],
      "metadata": {
        "id": "JOLA8cHXiXAy"
      }
    },
    {
      "cell_type": "markdown",
      "source": [
        "### Inspect Column Names for Errors\n"
      ],
      "metadata": {
        "id": "sNEIUG5akhgd"
      }
    },
    {
      "cell_type": "code",
      "source": [
        "ml_df.columns"
      ],
      "metadata": {
        "colab": {
          "base_uri": "https://localhost:8080/"
        },
        "id": "cFOIuaEkkxwn",
        "outputId": "6395c68b-d56f-447b-9943-d3535ba352ef"
      },
      "execution_count": 11,
      "outputs": [
        {
          "output_type": "execute_result",
          "data": {
            "text/plain": [
              "Index(['Age', 'Gender', 'BP', 'Cholesterol', 'Na_to_K', 'Drug'], dtype='object')"
            ]
          },
          "metadata": {},
          "execution_count": 11
        }
      ]
    },
    {
      "cell_type": "markdown",
      "source": [
        "* No errors noted."
      ],
      "metadata": {
        "id": "l-4yzen-k0qR"
      }
    },
    {
      "cell_type": "markdown",
      "source": [
        "### Insepct Values for Errors\n",
        "* Check for unusual or impossible values"
      ],
      "metadata": {
        "id": "GmYxTfPtlI-X"
      }
    },
    {
      "cell_type": "code",
      "source": [
        "display(ml_df.describe(include='object'))\n",
        "display(ml_df.describe(include='number'))"
      ],
      "metadata": {
        "colab": {
          "base_uri": "https://localhost:8080/",
          "height": 457
        },
        "id": "D8fvgcbWleSb",
        "outputId": "b48c12de-5856-4f62-d8d7-e7420aa50c6e"
      },
      "execution_count": 12,
      "outputs": [
        {
          "output_type": "display_data",
          "data": {
            "text/plain": [
              "       Gender    BP Cholesterol Na_to_K   Drug\n",
              "count     281   206         281     281    281\n",
              "unique      8     3           5     183      2\n",
              "top         M  High        HIGH  12.766  drugZ\n",
              "freq      140   128         145       7    147"
            ],
            "text/html": [
              "\n",
              "  <div id=\"df-b769a8cf-dbb3-44aa-908a-925246bc1a0f\">\n",
              "    <div class=\"colab-df-container\">\n",
              "      <div>\n",
              "<style scoped>\n",
              "    .dataframe tbody tr th:only-of-type {\n",
              "        vertical-align: middle;\n",
              "    }\n",
              "\n",
              "    .dataframe tbody tr th {\n",
              "        vertical-align: top;\n",
              "    }\n",
              "\n",
              "    .dataframe thead th {\n",
              "        text-align: right;\n",
              "    }\n",
              "</style>\n",
              "<table border=\"1\" class=\"dataframe\">\n",
              "  <thead>\n",
              "    <tr style=\"text-align: right;\">\n",
              "      <th></th>\n",
              "      <th>Gender</th>\n",
              "      <th>BP</th>\n",
              "      <th>Cholesterol</th>\n",
              "      <th>Na_to_K</th>\n",
              "      <th>Drug</th>\n",
              "    </tr>\n",
              "  </thead>\n",
              "  <tbody>\n",
              "    <tr>\n",
              "      <th>count</th>\n",
              "      <td>281</td>\n",
              "      <td>206</td>\n",
              "      <td>281</td>\n",
              "      <td>281</td>\n",
              "      <td>281</td>\n",
              "    </tr>\n",
              "    <tr>\n",
              "      <th>unique</th>\n",
              "      <td>8</td>\n",
              "      <td>3</td>\n",
              "      <td>5</td>\n",
              "      <td>183</td>\n",
              "      <td>2</td>\n",
              "    </tr>\n",
              "    <tr>\n",
              "      <th>top</th>\n",
              "      <td>M</td>\n",
              "      <td>High</td>\n",
              "      <td>HIGH</td>\n",
              "      <td>12.766</td>\n",
              "      <td>drugZ</td>\n",
              "    </tr>\n",
              "    <tr>\n",
              "      <th>freq</th>\n",
              "      <td>140</td>\n",
              "      <td>128</td>\n",
              "      <td>145</td>\n",
              "      <td>7</td>\n",
              "      <td>147</td>\n",
              "    </tr>\n",
              "  </tbody>\n",
              "</table>\n",
              "</div>\n",
              "      <button class=\"colab-df-convert\" onclick=\"convertToInteractive('df-b769a8cf-dbb3-44aa-908a-925246bc1a0f')\"\n",
              "              title=\"Convert this dataframe to an interactive table.\"\n",
              "              style=\"display:none;\">\n",
              "        \n",
              "  <svg xmlns=\"http://www.w3.org/2000/svg\" height=\"24px\"viewBox=\"0 0 24 24\"\n",
              "       width=\"24px\">\n",
              "    <path d=\"M0 0h24v24H0V0z\" fill=\"none\"/>\n",
              "    <path d=\"M18.56 5.44l.94 2.06.94-2.06 2.06-.94-2.06-.94-.94-2.06-.94 2.06-2.06.94zm-11 1L8.5 8.5l.94-2.06 2.06-.94-2.06-.94L8.5 2.5l-.94 2.06-2.06.94zm10 10l.94 2.06.94-2.06 2.06-.94-2.06-.94-.94-2.06-.94 2.06-2.06.94z\"/><path d=\"M17.41 7.96l-1.37-1.37c-.4-.4-.92-.59-1.43-.59-.52 0-1.04.2-1.43.59L10.3 9.45l-7.72 7.72c-.78.78-.78 2.05 0 2.83L4 21.41c.39.39.9.59 1.41.59.51 0 1.02-.2 1.41-.59l7.78-7.78 2.81-2.81c.8-.78.8-2.07 0-2.86zM5.41 20L4 18.59l7.72-7.72 1.47 1.35L5.41 20z\"/>\n",
              "  </svg>\n",
              "      </button>\n",
              "      \n",
              "  <style>\n",
              "    .colab-df-container {\n",
              "      display:flex;\n",
              "      flex-wrap:wrap;\n",
              "      gap: 12px;\n",
              "    }\n",
              "\n",
              "    .colab-df-convert {\n",
              "      background-color: #E8F0FE;\n",
              "      border: none;\n",
              "      border-radius: 50%;\n",
              "      cursor: pointer;\n",
              "      display: none;\n",
              "      fill: #1967D2;\n",
              "      height: 32px;\n",
              "      padding: 0 0 0 0;\n",
              "      width: 32px;\n",
              "    }\n",
              "\n",
              "    .colab-df-convert:hover {\n",
              "      background-color: #E2EBFA;\n",
              "      box-shadow: 0px 1px 2px rgba(60, 64, 67, 0.3), 0px 1px 3px 1px rgba(60, 64, 67, 0.15);\n",
              "      fill: #174EA6;\n",
              "    }\n",
              "\n",
              "    [theme=dark] .colab-df-convert {\n",
              "      background-color: #3B4455;\n",
              "      fill: #D2E3FC;\n",
              "    }\n",
              "\n",
              "    [theme=dark] .colab-df-convert:hover {\n",
              "      background-color: #434B5C;\n",
              "      box-shadow: 0px 1px 3px 1px rgba(0, 0, 0, 0.15);\n",
              "      filter: drop-shadow(0px 1px 2px rgba(0, 0, 0, 0.3));\n",
              "      fill: #FFFFFF;\n",
              "    }\n",
              "  </style>\n",
              "\n",
              "      <script>\n",
              "        const buttonEl =\n",
              "          document.querySelector('#df-b769a8cf-dbb3-44aa-908a-925246bc1a0f button.colab-df-convert');\n",
              "        buttonEl.style.display =\n",
              "          google.colab.kernel.accessAllowed ? 'block' : 'none';\n",
              "\n",
              "        async function convertToInteractive(key) {\n",
              "          const element = document.querySelector('#df-b769a8cf-dbb3-44aa-908a-925246bc1a0f');\n",
              "          const dataTable =\n",
              "            await google.colab.kernel.invokeFunction('convertToInteractive',\n",
              "                                                     [key], {});\n",
              "          if (!dataTable) return;\n",
              "\n",
              "          const docLinkHtml = 'Like what you see? Visit the ' +\n",
              "            '<a target=\"_blank\" href=https://colab.research.google.com/notebooks/data_table.ipynb>data table notebook</a>'\n",
              "            + ' to learn more about interactive tables.';\n",
              "          element.innerHTML = '';\n",
              "          dataTable['output_type'] = 'display_data';\n",
              "          await google.colab.output.renderOutput(dataTable, element);\n",
              "          const docLink = document.createElement('div');\n",
              "          docLink.innerHTML = docLinkHtml;\n",
              "          element.appendChild(docLink);\n",
              "        }\n",
              "      </script>\n",
              "    </div>\n",
              "  </div>\n",
              "  "
            ]
          },
          "metadata": {}
        },
        {
          "output_type": "display_data",
          "data": {
            "text/plain": [
              "              Age\n",
              "count  227.000000\n",
              "mean    47.475771\n",
              "std     38.359652\n",
              "min     15.000000\n",
              "25%     32.000000\n",
              "50%     45.000000\n",
              "75%     59.000000\n",
              "max    570.000000"
            ],
            "text/html": [
              "\n",
              "  <div id=\"df-4b2ac556-a319-4bea-89fe-d6727b5b8ec9\">\n",
              "    <div class=\"colab-df-container\">\n",
              "      <div>\n",
              "<style scoped>\n",
              "    .dataframe tbody tr th:only-of-type {\n",
              "        vertical-align: middle;\n",
              "    }\n",
              "\n",
              "    .dataframe tbody tr th {\n",
              "        vertical-align: top;\n",
              "    }\n",
              "\n",
              "    .dataframe thead th {\n",
              "        text-align: right;\n",
              "    }\n",
              "</style>\n",
              "<table border=\"1\" class=\"dataframe\">\n",
              "  <thead>\n",
              "    <tr style=\"text-align: right;\">\n",
              "      <th></th>\n",
              "      <th>Age</th>\n",
              "    </tr>\n",
              "  </thead>\n",
              "  <tbody>\n",
              "    <tr>\n",
              "      <th>count</th>\n",
              "      <td>227.000000</td>\n",
              "    </tr>\n",
              "    <tr>\n",
              "      <th>mean</th>\n",
              "      <td>47.475771</td>\n",
              "    </tr>\n",
              "    <tr>\n",
              "      <th>std</th>\n",
              "      <td>38.359652</td>\n",
              "    </tr>\n",
              "    <tr>\n",
              "      <th>min</th>\n",
              "      <td>15.000000</td>\n",
              "    </tr>\n",
              "    <tr>\n",
              "      <th>25%</th>\n",
              "      <td>32.000000</td>\n",
              "    </tr>\n",
              "    <tr>\n",
              "      <th>50%</th>\n",
              "      <td>45.000000</td>\n",
              "    </tr>\n",
              "    <tr>\n",
              "      <th>75%</th>\n",
              "      <td>59.000000</td>\n",
              "    </tr>\n",
              "    <tr>\n",
              "      <th>max</th>\n",
              "      <td>570.000000</td>\n",
              "    </tr>\n",
              "  </tbody>\n",
              "</table>\n",
              "</div>\n",
              "      <button class=\"colab-df-convert\" onclick=\"convertToInteractive('df-4b2ac556-a319-4bea-89fe-d6727b5b8ec9')\"\n",
              "              title=\"Convert this dataframe to an interactive table.\"\n",
              "              style=\"display:none;\">\n",
              "        \n",
              "  <svg xmlns=\"http://www.w3.org/2000/svg\" height=\"24px\"viewBox=\"0 0 24 24\"\n",
              "       width=\"24px\">\n",
              "    <path d=\"M0 0h24v24H0V0z\" fill=\"none\"/>\n",
              "    <path d=\"M18.56 5.44l.94 2.06.94-2.06 2.06-.94-2.06-.94-.94-2.06-.94 2.06-2.06.94zm-11 1L8.5 8.5l.94-2.06 2.06-.94-2.06-.94L8.5 2.5l-.94 2.06-2.06.94zm10 10l.94 2.06.94-2.06 2.06-.94-2.06-.94-.94-2.06-.94 2.06-2.06.94z\"/><path d=\"M17.41 7.96l-1.37-1.37c-.4-.4-.92-.59-1.43-.59-.52 0-1.04.2-1.43.59L10.3 9.45l-7.72 7.72c-.78.78-.78 2.05 0 2.83L4 21.41c.39.39.9.59 1.41.59.51 0 1.02-.2 1.41-.59l7.78-7.78 2.81-2.81c.8-.78.8-2.07 0-2.86zM5.41 20L4 18.59l7.72-7.72 1.47 1.35L5.41 20z\"/>\n",
              "  </svg>\n",
              "      </button>\n",
              "      \n",
              "  <style>\n",
              "    .colab-df-container {\n",
              "      display:flex;\n",
              "      flex-wrap:wrap;\n",
              "      gap: 12px;\n",
              "    }\n",
              "\n",
              "    .colab-df-convert {\n",
              "      background-color: #E8F0FE;\n",
              "      border: none;\n",
              "      border-radius: 50%;\n",
              "      cursor: pointer;\n",
              "      display: none;\n",
              "      fill: #1967D2;\n",
              "      height: 32px;\n",
              "      padding: 0 0 0 0;\n",
              "      width: 32px;\n",
              "    }\n",
              "\n",
              "    .colab-df-convert:hover {\n",
              "      background-color: #E2EBFA;\n",
              "      box-shadow: 0px 1px 2px rgba(60, 64, 67, 0.3), 0px 1px 3px 1px rgba(60, 64, 67, 0.15);\n",
              "      fill: #174EA6;\n",
              "    }\n",
              "\n",
              "    [theme=dark] .colab-df-convert {\n",
              "      background-color: #3B4455;\n",
              "      fill: #D2E3FC;\n",
              "    }\n",
              "\n",
              "    [theme=dark] .colab-df-convert:hover {\n",
              "      background-color: #434B5C;\n",
              "      box-shadow: 0px 1px 3px 1px rgba(0, 0, 0, 0.15);\n",
              "      filter: drop-shadow(0px 1px 2px rgba(0, 0, 0, 0.3));\n",
              "      fill: #FFFFFF;\n",
              "    }\n",
              "  </style>\n",
              "\n",
              "      <script>\n",
              "        const buttonEl =\n",
              "          document.querySelector('#df-4b2ac556-a319-4bea-89fe-d6727b5b8ec9 button.colab-df-convert');\n",
              "        buttonEl.style.display =\n",
              "          google.colab.kernel.accessAllowed ? 'block' : 'none';\n",
              "\n",
              "        async function convertToInteractive(key) {\n",
              "          const element = document.querySelector('#df-4b2ac556-a319-4bea-89fe-d6727b5b8ec9');\n",
              "          const dataTable =\n",
              "            await google.colab.kernel.invokeFunction('convertToInteractive',\n",
              "                                                     [key], {});\n",
              "          if (!dataTable) return;\n",
              "\n",
              "          const docLinkHtml = 'Like what you see? Visit the ' +\n",
              "            '<a target=\"_blank\" href=https://colab.research.google.com/notebooks/data_table.ipynb>data table notebook</a>'\n",
              "            + ' to learn more about interactive tables.';\n",
              "          element.innerHTML = '';\n",
              "          dataTable['output_type'] = 'display_data';\n",
              "          await google.colab.output.renderOutput(dataTable, element);\n",
              "          const docLink = document.createElement('div');\n",
              "          docLink.innerHTML = docLinkHtml;\n",
              "          element.appendChild(docLink);\n",
              "        }\n",
              "      </script>\n",
              "    </div>\n",
              "  </div>\n",
              "  "
            ]
          },
          "metadata": {}
        }
      ]
    },
    {
      "cell_type": "markdown",
      "source": [
        "* Checking Gender, Age, and Cholesterol"
      ],
      "metadata": {
        "id": "x0se-tr8lnYg"
      }
    },
    {
      "cell_type": "markdown",
      "source": [
        "#### Age"
      ],
      "metadata": {
        "id": "chjM4-GXl6gX"
      }
    },
    {
      "cell_type": "code",
      "source": [
        "ml_df['Age'].value_counts()"
      ],
      "metadata": {
        "colab": {
          "base_uri": "https://localhost:8080/"
        },
        "id": "6_l9J0KTl8BG",
        "outputId": "cd869f8c-bd5f-414c-a6ea-8d35111af2e9"
      },
      "execution_count": 13,
      "outputs": [
        {
          "output_type": "execute_result",
          "data": {
            "text/plain": [
              "36.0     8\n",
              "55.0     7\n",
              "61.0     7\n",
              "32.0     7\n",
              "42.0     7\n",
              "26.0     6\n",
              "39.0     6\n",
              "67.0     6\n",
              "53.0     6\n",
              "37.0     6\n",
              "60.0     6\n",
              "23.0     6\n",
              "43.0     6\n",
              "31.0     6\n",
              "28.0     6\n",
              "57.0     5\n",
              "70.0     5\n",
              "49.0     5\n",
              "47.0     4\n",
              "40.0     4\n",
              "24.0     4\n",
              "45.0     4\n",
              "19.0     4\n",
              "48.0     4\n",
              "50.0     4\n",
              "65.0     4\n",
              "56.0     4\n",
              "59.0     4\n",
              "58.0     4\n",
              "69.0     4\n",
              "29.0     4\n",
              "44.0     4\n",
              "20.0     4\n",
              "74.0     3\n",
              "35.0     3\n",
              "66.0     3\n",
              "73.0     3\n",
              "72.0     3\n",
              "62.0     3\n",
              "18.0     3\n",
              "22.0     3\n",
              "54.0     3\n",
              "71.0     2\n",
              "41.0     2\n",
              "64.0     2\n",
              "51.0     2\n",
              "21.0     2\n",
              "30.0     2\n",
              "52.0     2\n",
              "34.0     2\n",
              "38.0     2\n",
              "15.0     2\n",
              "16.0     2\n",
              "46.0     2\n",
              "63.0     1\n",
              "33.0     1\n",
              "25.0     1\n",
              "570.0    1\n",
              "68.0     1\n",
              "Name: Age, dtype: int64"
            ]
          },
          "metadata": {},
          "execution_count": 13
        }
      ]
    },
    {
      "cell_type": "code",
      "source": [
        "ml_df.replace([570], [57], inplace = True)"
      ],
      "metadata": {
        "id": "mNtQ52D0mC_E"
      },
      "execution_count": 14,
      "outputs": []
    },
    {
      "cell_type": "code",
      "source": [
        "ml_df['Age'].value_counts()"
      ],
      "metadata": {
        "colab": {
          "base_uri": "https://localhost:8080/"
        },
        "id": "yRTdVjKTmazD",
        "outputId": "4b149379-f79d-4c0e-9f8a-9ab012ba7592"
      },
      "execution_count": 15,
      "outputs": [
        {
          "output_type": "execute_result",
          "data": {
            "text/plain": [
              "36.0    8\n",
              "55.0    7\n",
              "61.0    7\n",
              "32.0    7\n",
              "42.0    7\n",
              "26.0    6\n",
              "39.0    6\n",
              "67.0    6\n",
              "53.0    6\n",
              "37.0    6\n",
              "60.0    6\n",
              "23.0    6\n",
              "43.0    6\n",
              "31.0    6\n",
              "28.0    6\n",
              "57.0    6\n",
              "70.0    5\n",
              "49.0    5\n",
              "47.0    4\n",
              "40.0    4\n",
              "24.0    4\n",
              "45.0    4\n",
              "19.0    4\n",
              "48.0    4\n",
              "50.0    4\n",
              "65.0    4\n",
              "56.0    4\n",
              "59.0    4\n",
              "58.0    4\n",
              "69.0    4\n",
              "29.0    4\n",
              "44.0    4\n",
              "20.0    4\n",
              "74.0    3\n",
              "35.0    3\n",
              "73.0    3\n",
              "66.0    3\n",
              "72.0    3\n",
              "62.0    3\n",
              "18.0    3\n",
              "22.0    3\n",
              "54.0    3\n",
              "71.0    2\n",
              "41.0    2\n",
              "64.0    2\n",
              "51.0    2\n",
              "52.0    2\n",
              "30.0    2\n",
              "21.0    2\n",
              "34.0    2\n",
              "38.0    2\n",
              "15.0    2\n",
              "16.0    2\n",
              "46.0    2\n",
              "63.0    1\n",
              "33.0    1\n",
              "25.0    1\n",
              "68.0    1\n",
              "Name: Age, dtype: int64"
            ]
          },
          "metadata": {},
          "execution_count": 15
        }
      ]
    },
    {
      "cell_type": "markdown",
      "source": [
        "#### Gender"
      ],
      "metadata": {
        "id": "v6ceP7mZjSsC"
      }
    },
    {
      "cell_type": "code",
      "source": [
        "ml_df['Gender'].value_counts()"
      ],
      "metadata": {
        "colab": {
          "base_uri": "https://localhost:8080/"
        },
        "id": "SjISPLJ9ikTy",
        "outputId": "06abf2c1-c6a3-4fe4-988f-7a86781af39c"
      },
      "execution_count": 16,
      "outputs": [
        {
          "output_type": "execute_result",
          "data": {
            "text/plain": [
              "M         140\n",
              "F         131\n",
              "male        4\n",
              "female      2\n",
              "Female      1\n",
              "Male        1\n",
              "femal       1\n",
              "Femal       1\n",
              "Name: Gender, dtype: int64"
            ]
          },
          "metadata": {},
          "execution_count": 16
        }
      ]
    },
    {
      "cell_type": "markdown",
      "source": [
        "* Change [male, Male] to M and [female, Female, femal, Femal] to F."
      ],
      "metadata": {
        "id": "Re54SnI_ixfQ"
      }
    },
    {
      "cell_type": "code",
      "source": [
        "ml_df.replace(['male', 'Male', 'female', 'Female', 'femal', 'Femal'], ['M', 'M', 'F', 'F', 'F', 'F'], inplace = True)"
      ],
      "metadata": {
        "id": "4E1HhPFii6GC"
      },
      "execution_count": 17,
      "outputs": []
    },
    {
      "cell_type": "code",
      "source": [
        "ml_df['Gender'].value_counts()"
      ],
      "metadata": {
        "colab": {
          "base_uri": "https://localhost:8080/"
        },
        "id": "YsPz9uApjLo4",
        "outputId": "1cd8fc6b-dc66-4f9b-cfd9-d85460f090b2"
      },
      "execution_count": 18,
      "outputs": [
        {
          "output_type": "execute_result",
          "data": {
            "text/plain": [
              "M    145\n",
              "F    136\n",
              "Name: Gender, dtype: int64"
            ]
          },
          "metadata": {},
          "execution_count": 18
        }
      ]
    },
    {
      "cell_type": "markdown",
      "source": [
        "#### Cholesterol\n",
        "\n",
        "* Change high to HIGH and [norm, NORM] to NORMAL"
      ],
      "metadata": {
        "id": "zEuJWWuHjVOP"
      }
    },
    {
      "cell_type": "code",
      "source": [
        "ml_df['Cholesterol'].value_counts()"
      ],
      "metadata": {
        "colab": {
          "base_uri": "https://localhost:8080/"
        },
        "id": "aa0MaDfBjZ5v",
        "outputId": "d86ac03f-0209-472d-93b3-82e5b9f87550"
      },
      "execution_count": 19,
      "outputs": [
        {
          "output_type": "execute_result",
          "data": {
            "text/plain": [
              "HIGH      145\n",
              "NORMAL    114\n",
              "norm        9\n",
              "high        7\n",
              "NORM        6\n",
              "Name: Cholesterol, dtype: int64"
            ]
          },
          "metadata": {},
          "execution_count": 19
        }
      ]
    },
    {
      "cell_type": "code",
      "source": [
        "ml_df.replace(['high', 'norm', 'NORM'], ['HIGH', 'NORMAL', 'NORMAL'], inplace = True)\n"
      ],
      "metadata": {
        "id": "Qt-sZ4QKjspJ"
      },
      "execution_count": 20,
      "outputs": []
    },
    {
      "cell_type": "code",
      "source": [
        "ml_df['Cholesterol'].value_counts()"
      ],
      "metadata": {
        "colab": {
          "base_uri": "https://localhost:8080/"
        },
        "id": "gN9oej-nj6oF",
        "outputId": "fb924a1a-384b-4ed2-ded1-048201bca068"
      },
      "execution_count": 21,
      "outputs": [
        {
          "output_type": "execute_result",
          "data": {
            "text/plain": [
              "HIGH      152\n",
              "NORMAL    129\n",
              "Name: Cholesterol, dtype: int64"
            ]
          },
          "metadata": {},
          "execution_count": 21
        }
      ]
    },
    {
      "cell_type": "markdown",
      "source": [
        "### Missing Values"
      ],
      "metadata": {
        "id": "rTUfNaL8mn0C"
      }
    },
    {
      "cell_type": "code",
      "source": [
        "# Display the total number of missing values\n",
        "print(f'There are {ml_df.isna().sum().sum()} missing values.')"
      ],
      "metadata": {
        "colab": {
          "base_uri": "https://localhost:8080/"
        },
        "id": "gz5g798Xmqe7",
        "outputId": "79ce96ad-b931-4120-dd82-6814bd40e072"
      },
      "execution_count": 22,
      "outputs": [
        {
          "output_type": "stream",
          "name": "stdout",
          "text": [
            "There are 129 missing values.\n"
          ]
        }
      ]
    },
    {
      "cell_type": "code",
      "source": [
        "# Display the count of missing values by column\n",
        "print(ml_df.isna().sum())"
      ],
      "metadata": {
        "colab": {
          "base_uri": "https://localhost:8080/"
        },
        "id": "KO4o6bQnmzHD",
        "outputId": "0017f06d-dbb6-4460-8ed8-d6a7de1d5cae"
      },
      "execution_count": 23,
      "outputs": [
        {
          "output_type": "stream",
          "name": "stdout",
          "text": [
            "Age            54\n",
            "Gender          0\n",
            "BP             75\n",
            "Cholesterol     0\n",
            "Na_to_K         0\n",
            "Drug            0\n",
            "dtype: int64\n"
          ]
        }
      ]
    },
    {
      "cell_type": "code",
      "source": [
        "## Display the percentage of missing values by column\n",
        "print(df.isna().sum()/len(df)*100)"
      ],
      "metadata": {
        "colab": {
          "base_uri": "https://localhost:8080/"
        },
        "id": "f__HJ8PonC0T",
        "outputId": "ca6007ce-d79d-4cbc-fcf6-b8c0750767f7"
      },
      "execution_count": 24,
      "outputs": [
        {
          "output_type": "stream",
          "name": "stdout",
          "text": [
            "Age            19.932432\n",
            "Gender          0.000000\n",
            "BP             25.337838\n",
            "Cholesterol     0.000000\n",
            "Na_to_K         0.000000\n",
            "Drug            0.000000\n",
            "dtype: float64\n"
          ]
        }
      ]
    },
    {
      "cell_type": "markdown",
      "source": [
        "* There are missing 'Age' and 'BP'\n",
        "  * We will use a SimpleImputer using a 'mode' "
      ],
      "metadata": {
        "id": "X_hrvgVfnFew"
      }
    },
    {
      "cell_type": "markdown",
      "source": [
        "## Exploratory Visuals\n",
        "\n",
        "* Exploring the age of each individual in the study"
      ],
      "metadata": {
        "id": "8D5YgB9pG19w"
      }
    },
    {
      "cell_type": "markdown",
      "source": [
        "#### Histogram"
      ],
      "metadata": {
        "id": "P4YLlUtDJmcx"
      }
    },
    {
      "cell_type": "code",
      "source": [
        "# Histogram\n",
        "plt.style.use('seaborn')\n",
        "ml_df['Age'].hist(bins='auto', edgecolor='k')\n",
        "plt.ylabel('Count', fontsize = 15)\n",
        "plt.xlabel('Age', fontsize = 15);"
      ],
      "metadata": {
        "colab": {
          "base_uri": "https://localhost:8080/",
          "height": 365
        },
        "id": "00ON-2LSHMnt",
        "outputId": "60cee487-d7b5-4cbb-b280-adf90bd50845"
      },
      "execution_count": 108,
      "outputs": [
        {
          "output_type": "display_data",
          "data": {
            "text/plain": [
              "<Figure size 576x396 with 1 Axes>"
            ],
            "image/png": "[encoded data removed]"
          },
          "metadata": {}
        }
      ]
    },
    {
      "cell_type": "markdown",
      "source": [
        "* The histogram above shows a peak in individuals between the ages of 35-40 and 55-60 with there being more outliers in the between 15-20 and 65-70. \n",
        "\n",
        "* Fairly balanced spread of ages"
      ],
      "metadata": {
        "id": "d7Qrp0H3L4cI"
      }
    },
    {
      "cell_type": "markdown",
      "source": [
        "#### Heatmap"
      ],
      "metadata": {
        "id": "ANy1X-L3Jp27"
      }
    },
    {
      "cell_type": "code",
      "source": [
        "ml_df.boxplot(column = 'Age', by = 'Drug')\n",
        "\n",
        "plt.title('Boxplot showing outliers for Age by Drug')\n",
        "plt.suptitle('')\n",
        "plt.xticks([0, 1, 2, 3], ['','drugQ', 'drugZ', '']);"
      ],
      "metadata": {
        "colab": {
          "base_uri": "https://localhost:8080/",
          "height": 429
        },
        "id": "uDGu37SGLHQF",
        "outputId": "492656c1-5779-4ff8-c2ac-da4de4d87665"
      },
      "execution_count": 125,
      "outputs": [
        {
          "output_type": "stream",
          "name": "stderr",
          "text": [
            "/usr/local/lib/python3.8/dist-packages/matplotlib/cbook/__init__.py:1376: VisibleDeprecationWarning: Creating an ndarray from ragged nested sequences (which is a list-or-tuple of lists-or-tuples-or ndarrays with different lengths or shapes) is deprecated. If you meant to do this, you must specify 'dtype=object' when creating the ndarray.\n",
            "  X = np.atleast_1d(X.T if isinstance(X, np.ndarray) else np.asarray(X))\n"
          ]
        },
        {
          "output_type": "display_data",
          "data": {
            "text/plain": [
              "<Figure size 576x396 with 1 Axes>"
            ],
            "image/png": "[encoded data removed]"
          },
          "metadata": {}
        }
      ]
    },
    {
      "cell_type": "markdown",
      "source": [
        "* Boxplots show that there is a slight uptick in individuals who have taken the drug 'drugQ' over 'drugZ'. \n",
        "* 'DrugQ' also has less younger individuals"
      ],
      "metadata": {
        "id": "BPyvBK_OMrfx"
      }
    },
    {
      "cell_type": "markdown",
      "source": [
        "## Model Validation Data Split"
      ],
      "metadata": {
        "id": "vkZmcqgUonfj"
      }
    },
    {
      "cell_type": "markdown",
      "source": [
        "### Check Class Balance"
      ],
      "metadata": {
        "id": "hiua-WfCorJ2"
      }
    },
    {
      "cell_type": "code",
      "source": [
        "# Check how many samples of each class are present\n",
        "ml_df['Drug'].value_counts(normalize=False)"
      ],
      "metadata": {
        "colab": {
          "base_uri": "https://localhost:8080/"
        },
        "id": "4jd_DGUxos1X",
        "outputId": "d8f05010-ae71-42b3-e4f3-35764d75f128"
      },
      "execution_count": 25,
      "outputs": [
        {
          "output_type": "execute_result",
          "data": {
            "text/plain": [
              "drugZ    147\n",
              "drugQ    134\n",
              "Name: Drug, dtype: int64"
            ]
          },
          "metadata": {},
          "execution_count": 25
        }
      ]
    },
    {
      "cell_type": "code",
      "source": [
        "# Check how many samples of each class are present\n",
        "ml_df['Drug'].value_counts(normalize=True)"
      ],
      "metadata": {
        "colab": {
          "base_uri": "https://localhost:8080/"
        },
        "id": "IUYy4Qyqo0jx",
        "outputId": "62a4509e-c003-4a97-bd7d-5cbe1f3019a2"
      },
      "execution_count": 26,
      "outputs": [
        {
          "output_type": "execute_result",
          "data": {
            "text/plain": [
              "drugZ    0.523132\n",
              "drugQ    0.476868\n",
              "Name: Drug, dtype: float64"
            ]
          },
          "metadata": {},
          "execution_count": 26
        }
      ]
    },
    {
      "cell_type": "code",
      "source": [
        "# Encode 'Drug' Column\n",
        "ml_df['Drug'] = ml_df['Drug'].replace({'drugQ': 0, 'drugZ': 1})"
      ],
      "metadata": {
        "id": "jeZ4c_BmzdwW"
      },
      "execution_count": 27,
      "outputs": []
    },
    {
      "cell_type": "markdown",
      "source": [
        "### Split the Data"
      ],
      "metadata": {
        "id": "E-fIkeEno7me"
      }
    },
    {
      "cell_type": "code",
      "source": [
        "# Define features (X) and target (y)\n",
        "target = 'Drug'\n",
        "labels = ['drugQ', 'drugZ']\n",
        "\n",
        "X = ml_df.drop(columns = [target], axis=1).copy()\n",
        "y = ml_df[target].copy()"
      ],
      "metadata": {
        "id": "8-_WZPC4o9dc"
      },
      "execution_count": 28,
      "outputs": []
    },
    {
      "cell_type": "code",
      "source": [
        "# Split the dataset\n",
        "X_train, X_test, y_train, y_test = train_test_split(X, y, stratify=y, random_state=42)"
      ],
      "metadata": {
        "id": "j_DVrmSbpZcs"
      },
      "execution_count": 29,
      "outputs": []
    },
    {
      "cell_type": "code",
      "source": [
        "# Check how many samples of each class are present for train\n",
        "y_train.value_counts(normalize=True)"
      ],
      "metadata": {
        "colab": {
          "base_uri": "https://localhost:8080/"
        },
        "id": "3DV7rs_npjUj",
        "outputId": "2c88bcdd-7229-4d32-a287-7228cb9920ae"
      },
      "execution_count": 30,
      "outputs": [
        {
          "output_type": "execute_result",
          "data": {
            "text/plain": [
              "1    0.52381\n",
              "0    0.47619\n",
              "Name: Drug, dtype: float64"
            ]
          },
          "metadata": {},
          "execution_count": 30
        }
      ]
    },
    {
      "cell_type": "code",
      "source": [
        "# Check how many samples of each class are present for test\n",
        "y_test.value_counts(normalize=True)"
      ],
      "metadata": {
        "colab": {
          "base_uri": "https://localhost:8080/"
        },
        "id": "WNk2hFf0pnoZ",
        "outputId": "3e887659-f3fc-48d9-9302-31616895a803"
      },
      "execution_count": 31,
      "outputs": [
        {
          "output_type": "execute_result",
          "data": {
            "text/plain": [
              "1    0.521127\n",
              "0    0.478873\n",
              "Name: Drug, dtype: float64"
            ]
          },
          "metadata": {},
          "execution_count": 31
        }
      ]
    },
    {
      "cell_type": "markdown",
      "source": [
        "## Preprocessing for Machine Learning"
      ],
      "metadata": {
        "id": "rswP3_19ohaO"
      }
    },
    {
      "cell_type": "markdown",
      "source": [
        "### ColumnSelector"
      ],
      "metadata": {
        "id": "pIzqyvnyojhl"
      }
    },
    {
      "cell_type": "code",
      "source": [
        "# Instantiate the column selectors\n",
        "num_selector = make_column_selector(dtype_include='number')\n",
        "cat_selector = make_column_selector(dtype_include='object')"
      ],
      "metadata": {
        "id": "TLn_I4ArqC4i"
      },
      "execution_count": 32,
      "outputs": []
    },
    {
      "cell_type": "markdown",
      "source": [
        "### Imputers"
      ],
      "metadata": {
        "id": "iFmH8c33qQsx"
      }
    },
    {
      "cell_type": "code",
      "source": [
        "# Instantiate the imputer\n",
        "mean_imputer= SimpleImputer(strategy='mean')\n",
        "# Instantiate the transformers\n",
        "scaler = StandardScaler()\n",
        "# Instantiate One Hot Encoder\n",
        "ohe = OneHotEncoder(sparse=False, handle_unknown='ignore')"
      ],
      "metadata": {
        "id": "zQNWaJoVqR7-"
      },
      "execution_count": 33,
      "outputs": []
    },
    {
      "cell_type": "markdown",
      "source": [
        "* Chose to use mean so that the average of the missing values would help balance any outliers that might be present. "
      ],
      "metadata": {
        "id": "P2eqCW72qxXY"
      }
    },
    {
      "cell_type": "markdown",
      "source": [
        "### Pipeline"
      ],
      "metadata": {
        "id": "VFsi6H_BQWyn"
      }
    },
    {
      "cell_type": "code",
      "source": [
        "numeric_pipe = make_pipeline(mean_imputer, scaler)"
      ],
      "metadata": {
        "id": "e4CD7578QZpL"
      },
      "execution_count": 147,
      "outputs": []
    },
    {
      "cell_type": "markdown",
      "source": [
        "### Tuples"
      ],
      "metadata": {
        "id": "dxC9q73frQOv"
      }
    },
    {
      "cell_type": "code",
      "source": [
        "# Create tuples\n",
        "number_tuple = (numeric_pipe, num_selector)\n",
        "category_tuple = (ohe, cat_selector)"
      ],
      "metadata": {
        "id": "bS7pm9yOrRXt"
      },
      "execution_count": 148,
      "outputs": []
    },
    {
      "cell_type": "markdown",
      "source": [
        "### ColumnTransformer\n"
      ],
      "metadata": {
        "id": "0ijdjAn7rksx"
      }
    },
    {
      "cell_type": "code",
      "source": [
        "# Create the preprocessor using make_column_transformer\n",
        "preprocessor = make_column_transformer(number_tuple, category_tuple, remainder='drop')"
      ],
      "metadata": {
        "id": "Nv3z3uRcroGO"
      },
      "execution_count": 149,
      "outputs": []
    },
    {
      "cell_type": "markdown",
      "source": [
        "## Models"
      ],
      "metadata": {
        "id": "d-XgwDLTrviO"
      }
    },
    {
      "cell_type": "markdown",
      "source": [
        "### Logistic Regression Model"
      ],
      "metadata": {
        "id": "I22uoIf0sMPZ"
      }
    },
    {
      "cell_type": "code",
      "source": [
        "# Create an instand of the model\n",
        "log_reg = LogisticRegression()\n",
        "# Create a model pipeline\n",
        "log_reg_pipe = make_pipeline(preprocessor, log_reg)\n",
        "# Fit the model\n",
        "log_reg_pipe.fit(X_train, y_train)"
      ],
      "metadata": {
        "colab": {
          "base_uri": "https://localhost:8080/",
          "height": 223
        },
        "id": "q3Wsc4WBsKMH",
        "outputId": "95069eba-9c1b-4e86-86f2-3041be54e701"
      },
      "execution_count": 150,
      "outputs": [
        {
          "output_type": "execute_result",
          "data": {
            "text/plain": [
              "Pipeline(steps=[('columntransformer',\n",
              "                 ColumnTransformer(transformers=[('pipeline',\n",
              "                                                  Pipeline(steps=[('simpleimputer',\n",
              "                                                                   SimpleImputer()),\n",
              "                                                                  ('standardscaler',\n",
              "                                                                   StandardScaler())]),\n",
              "                                                  <sklearn.compose._column_transformer.make_column_selector object at 0x7f55bb1b66d0>),\n",
              "                                                 ('onehotencoder',\n",
              "                                                  OneHotEncoder(handle_unknown='ignore',\n",
              "                                                                sparse=False),\n",
              "                                                  <sklearn.compose._column_transformer.make_column_selector object at 0x7f55bb1b6dc0>)])),\n",
              "                ('logisticregression', LogisticRegression())])"
            ],
            "text/html": [
              "<style>#sk-0eea366e-2f02-47a1-bc07-0105eaf73d14 {color: black;background-color: white;}#sk-0eea366e-2f02-47a1-bc07-0105eaf73d14 pre{padding: 0;}#sk-0eea366e-2f02-47a1-bc07-0105eaf73d14 div.sk-toggleable {background-color: white;}#sk-0eea366e-2f02-47a1-bc07-0105eaf73d14 label.sk-toggleable__label {cursor: pointer;display: block;width: 100%;margin-bottom: 0;padding: 0.3em;box-sizing: border-box;text-align: center;}#sk-0eea366e-2f02-47a1-bc07-0105eaf73d14 label.sk-toggleable__label-arrow:before {content: \"▸\";float: left;margin-right: 0.25em;color: #696969;}#sk-0eea366e-2f02-47a1-bc07-0105eaf73d14 label.sk-toggleable__label-arrow:hover:before {color: black;}#sk-0eea366e-2f02-47a1-bc07-0105eaf73d14 div.sk-estimator:hover label.sk-toggleable__label-arrow:before {color: black;}#sk-0eea366e-2f02-47a1-bc07-0105eaf73d14 div.sk-toggleable__content {max-height: 0;max-width: 0;overflow: hidden;text-align: left;background-color: #f0f8ff;}#sk-0eea366e-2f02-47a1-bc07-0105eaf73d14 div.sk-toggleable__content pre {margin: 0.2em;color: black;border-radius: 0.25em;background-color: #f0f8ff;}#sk-0eea366e-2f02-47a1-bc07-0105eaf73d14 input.sk-toggleable__control:checked~div.sk-toggleable__content {max-height: 200px;max-width: 100%;overflow: auto;}#sk-0eea366e-2f02-47a1-bc07-0105eaf73d14 input.sk-toggleable__control:checked~label.sk-toggleable__label-arrow:before {content: \"▾\";}#sk-0eea366e-2f02-47a1-bc07-0105eaf73d14 div.sk-estimator input.sk-toggleable__control:checked~label.sk-toggleable__label {background-color: #d4ebff;}#sk-0eea366e-2f02-47a1-bc07-0105eaf73d14 div.sk-label input.sk-toggleable__control:checked~label.sk-toggleable__label {background-color: #d4ebff;}#sk-0eea366e-2f02-47a1-bc07-0105eaf73d14 input.sk-hidden--visually {border: 0;clip: rect(1px 1px 1px 1px);clip: rect(1px, 1px, 1px, 1px);height: 1px;margin: -1px;overflow: hidden;padding: 0;position: absolute;width: 1px;}#sk-0eea366e-2f02-47a1-bc07-0105eaf73d14 div.sk-estimator {font-family: monospace;background-color: #f0f8ff;border: 1px dotted black;border-radius: 0.25em;box-sizing: border-box;margin-bottom: 0.5em;}#sk-0eea366e-2f02-47a1-bc07-0105eaf73d14 div.sk-estimator:hover {background-color: #d4ebff;}#sk-0eea366e-2f02-47a1-bc07-0105eaf73d14 div.sk-parallel-item::after {content: \"\";width: 100%;border-bottom: 1px solid gray;flex-grow: 1;}#sk-0eea366e-2f02-47a1-bc07-0105eaf73d14 div.sk-label:hover label.sk-toggleable__label {background-color: #d4ebff;}#sk-0eea366e-2f02-47a1-bc07-0105eaf73d14 div.sk-serial::before {content: \"\";position: absolute;border-left: 1px solid gray;box-sizing: border-box;top: 2em;bottom: 0;left: 50%;}#sk-0eea366e-2f02-47a1-bc07-0105eaf73d14 div.sk-serial {display: flex;flex-direction: column;align-items: center;background-color: white;padding-right: 0.2em;padding-left: 0.2em;}#sk-0eea366e-2f02-47a1-bc07-0105eaf73d14 div.sk-item {z-index: 1;}#sk-0eea366e-2f02-47a1-bc07-0105eaf73d14 div.sk-parallel {display: flex;align-items: stretch;justify-content: center;background-color: white;}#sk-0eea366e-2f02-47a1-bc07-0105eaf73d14 div.sk-parallel::before {content: \"\";position: absolute;border-left: 1px solid gray;box-sizing: border-box;top: 2em;bottom: 0;left: 50%;}#sk-0eea366e-2f02-47a1-bc07-0105eaf73d14 div.sk-parallel-item {display: flex;flex-direction: column;position: relative;background-color: white;}#sk-0eea366e-2f02-47a1-bc07-0105eaf73d14 div.sk-parallel-item:first-child::after {align-self: flex-end;width: 50%;}#sk-0eea366e-2f02-47a1-bc07-0105eaf73d14 div.sk-parallel-item:last-child::after {align-self: flex-start;width: 50%;}#sk-0eea366e-2f02-47a1-bc07-0105eaf73d14 div.sk-parallel-item:only-child::after {width: 0;}#sk-0eea366e-2f02-47a1-bc07-0105eaf73d14 div.sk-dashed-wrapped {border: 1px dashed gray;margin: 0 0.4em 0.5em 0.4em;box-sizing: border-box;padding-bottom: 0.4em;background-color: white;position: relative;}#sk-0eea366e-2f02-47a1-bc07-0105eaf73d14 div.sk-label label {font-family: monospace;font-weight: bold;background-color: white;display: inline-block;line-height: 1.2em;}#sk-0eea366e-2f02-47a1-bc07-0105eaf73d14 div.sk-label-container {position: relative;z-index: 2;text-align: center;}#sk-0eea366e-2f02-47a1-bc07-0105eaf73d14 div.sk-container {/* jupyter's `normalize.less` sets `[hidden] { display: none; }` but bootstrap.min.css set `[hidden] { display: none !important; }` so we also need the `!important` here to be able to override the default hidden behavior on the sphinx rendered scikit-learn.org. See: https://github.com/scikit-learn/scikit-learn/issues/21755 */display: inline-block !important;position: relative;}#sk-0eea366e-2f02-47a1-bc07-0105eaf73d14 div.sk-text-repr-fallback {display: none;}</style><div id=\"sk-0eea366e-2f02-47a1-bc07-0105eaf73d14\" class=\"sk-top-container\"><div class=\"sk-text-repr-fallback\"><pre>Pipeline(steps=[(&#x27;columntransformer&#x27;,\n",
              "                 ColumnTransformer(transformers=[(&#x27;pipeline&#x27;,\n",
              "                                                  Pipeline(steps=[(&#x27;simpleimputer&#x27;,\n",
              "                                                                   SimpleImputer()),\n",
              "                                                                  (&#x27;standardscaler&#x27;,\n",
              "                                                                   StandardScaler())]),\n",
              "                                                  &lt;sklearn.compose._column_transformer.make_column_selector object at 0x7f55bb1b66d0&gt;),\n",
              "                                                 (&#x27;onehotencoder&#x27;,\n",
              "                                                  OneHotEncoder(handle_unknown=&#x27;ignore&#x27;,\n",
              "                                                                sparse=False),\n",
              "                                                  &lt;sklearn.compose._column_transformer.make_column_selector object at 0x7f55bb1b6dc0&gt;)])),\n",
              "                (&#x27;logisticregression&#x27;, LogisticRegression())])</pre><b>Please rerun this cell to show the HTML repr or trust the notebook.</b></div><div class=\"sk-container\" hidden><div class=\"sk-item sk-dashed-wrapped\"><div class=\"sk-label-container\"><div class=\"sk-label sk-toggleable\"><input class=\"sk-toggleable__control sk-hidden--visually\" id=\"0e734ec8-e7fb-4835-807c-caf98b20bda3\" type=\"checkbox\" ><label for=\"0e734ec8-e7fb-4835-807c-caf98b20bda3\" class=\"sk-toggleable__label sk-toggleable__label-arrow\">Pipeline</label><div class=\"sk-toggleable__content\"><pre>Pipeline(steps=[(&#x27;columntransformer&#x27;,\n",
              "                 ColumnTransformer(transformers=[(&#x27;pipeline&#x27;,\n",
              "                                                  Pipeline(steps=[(&#x27;simpleimputer&#x27;,\n",
              "                                                                   SimpleImputer()),\n",
              "                                                                  (&#x27;standardscaler&#x27;,\n",
              "                                                                   StandardScaler())]),\n",
              "                                                  &lt;sklearn.compose._column_transformer.make_column_selector object at 0x7f55bb1b66d0&gt;),\n",
              "                                                 (&#x27;onehotencoder&#x27;,\n",
              "                                                  OneHotEncoder(handle_unknown=&#x27;ignore&#x27;,\n",
              "                                                                sparse=False),\n",
              "                                                  &lt;sklearn.compose._column_transformer.make_column_selector object at 0x7f55bb1b6dc0&gt;)])),\n",
              "                (&#x27;logisticregression&#x27;, LogisticRegression())])</pre></div></div></div><div class=\"sk-serial\"><div class=\"sk-item sk-dashed-wrapped\"><div class=\"sk-label-container\"><div class=\"sk-label sk-toggleable\"><input class=\"sk-toggleable__control sk-hidden--visually\" id=\"b17430f0-29d8-4d81-b3c8-1d2aec2b4233\" type=\"checkbox\" ><label for=\"b17430f0-29d8-4d81-b3c8-1d2aec2b4233\" class=\"sk-toggleable__label sk-toggleable__label-arrow\">columntransformer: ColumnTransformer</label><div class=\"sk-toggleable__content\"><pre>ColumnTransformer(transformers=[(&#x27;pipeline&#x27;,\n",
              "                                 Pipeline(steps=[(&#x27;simpleimputer&#x27;,\n",
              "                                                  SimpleImputer()),\n",
              "                                                 (&#x27;standardscaler&#x27;,\n",
              "                                                  StandardScaler())]),\n",
              "                                 &lt;sklearn.compose._column_transformer.make_column_selector object at 0x7f55bb1b66d0&gt;),\n",
              "                                (&#x27;onehotencoder&#x27;,\n",
              "                                 OneHotEncoder(handle_unknown=&#x27;ignore&#x27;,\n",
              "                                               sparse=False),\n",
              "                                 &lt;sklearn.compose._column_transformer.make_column_selector object at 0x7f55bb1b6dc0&gt;)])</pre></div></div></div><div class=\"sk-parallel\"><div class=\"sk-parallel-item\"><div class=\"sk-item\"><div class=\"sk-label-container\"><div class=\"sk-label sk-toggleable\"><input class=\"sk-toggleable__control sk-hidden--visually\" id=\"e91881ce-9638-4a3e-a2e3-39294612536a\" type=\"checkbox\" ><label for=\"e91881ce-9638-4a3e-a2e3-39294612536a\" class=\"sk-toggleable__label sk-toggleable__label-arrow\">pipeline</label><div class=\"sk-toggleable__content\"><pre>&lt;sklearn.compose._column_transformer.make_column_selector object at 0x7f55bb1b66d0&gt;</pre></div></div></div><div class=\"sk-serial\"><div class=\"sk-item\"><div class=\"sk-serial\"><div class=\"sk-item\"><div class=\"sk-estimator sk-toggleable\"><input class=\"sk-toggleable__control sk-hidden--visually\" id=\"05598bec-2f50-4986-89ad-dd52accd5f9f\" type=\"checkbox\" ><label for=\"05598bec-2f50-4986-89ad-dd52accd5f9f\" class=\"sk-toggleable__label sk-toggleable__label-arrow\">SimpleImputer</label><div class=\"sk-toggleable__content\"><pre>SimpleImputer()</pre></div></div></div><div class=\"sk-item\"><div class=\"sk-estimator sk-toggleable\"><input class=\"sk-toggleable__control sk-hidden--visually\" id=\"e3621e91-efdf-4417-a265-9dc6c15942d1\" type=\"checkbox\" ><label for=\"e3621e91-efdf-4417-a265-9dc6c15942d1\" class=\"sk-toggleable__label sk-toggleable__label-arrow\">StandardScaler</label><div class=\"sk-toggleable__content\"><pre>StandardScaler()</pre></div></div></div></div></div></div></div></div><div class=\"sk-parallel-item\"><div class=\"sk-item\"><div class=\"sk-label-container\"><div class=\"sk-label sk-toggleable\"><input class=\"sk-toggleable__control sk-hidden--visually\" id=\"7ca49047-0a19-4892-bb15-e3d87f825058\" type=\"checkbox\" ><label for=\"7ca49047-0a19-4892-bb15-e3d87f825058\" class=\"sk-toggleable__label sk-toggleable__label-arrow\">onehotencoder</label><div class=\"sk-toggleable__content\"><pre>&lt;sklearn.compose._column_transformer.make_column_selector object at 0x7f55bb1b6dc0&gt;</pre></div></div></div><div class=\"sk-serial\"><div class=\"sk-item\"><div class=\"sk-estimator sk-toggleable\"><input class=\"sk-toggleable__control sk-hidden--visually\" id=\"2a0669e9-6084-49d6-bbd9-9a71dff8d2ac\" type=\"checkbox\" ><label for=\"2a0669e9-6084-49d6-bbd9-9a71dff8d2ac\" class=\"sk-toggleable__label sk-toggleable__label-arrow\">OneHotEncoder</label><div class=\"sk-toggleable__content\"><pre>OneHotEncoder(handle_unknown=&#x27;ignore&#x27;, sparse=False)</pre></div></div></div></div></div></div></div></div><div class=\"sk-item\"><div class=\"sk-estimator sk-toggleable\"><input class=\"sk-toggleable__control sk-hidden--visually\" id=\"6bf92b76-bb4f-4c6f-8a46-46fcbe1075b6\" type=\"checkbox\" ><label for=\"6bf92b76-bb4f-4c6f-8a46-46fcbe1075b6\" class=\"sk-toggleable__label sk-toggleable__label-arrow\">LogisticRegression</label><div class=\"sk-toggleable__content\"><pre>LogisticRegression()</pre></div></div></div></div></div></div></div>"
            ]
          },
          "metadata": {},
          "execution_count": 150
        }
      ]
    },
    {
      "cell_type": "code",
      "source": [
        "# Save the model's predictions for the dataset\n",
        "log_reg_train_preds = log_reg_pipe.predict(X_train)\n",
        "# Save the model's predictions for the test dataset\n",
        "log_reg_test_preds = log_reg_pipe.predict(X_test)"
      ],
      "metadata": {
        "id": "uxwhRpXdtL-1"
      },
      "execution_count": 151,
      "outputs": []
    },
    {
      "cell_type": "markdown",
      "source": [
        "#### Model Evaluation"
      ],
      "metadata": {
        "id": "ouKYcI-OtaT1"
      }
    },
    {
      "cell_type": "code",
      "source": [
        "# print the classification report from the test data\n",
        "print(classification_report(y_test, log_reg_test_preds, target_names = labels))"
      ],
      "metadata": {
        "colab": {
          "base_uri": "https://localhost:8080/"
        },
        "id": "cF4NQ2SrtZEA",
        "outputId": "022590de-b09f-4155-bd8f-6352ad556933"
      },
      "execution_count": 152,
      "outputs": [
        {
          "output_type": "stream",
          "name": "stdout",
          "text": [
            "              precision    recall  f1-score   support\n",
            "\n",
            "       drugQ       0.85      0.85      0.85        34\n",
            "       drugZ       0.86      0.86      0.86        37\n",
            "\n",
            "    accuracy                           0.86        71\n",
            "   macro avg       0.86      0.86      0.86        71\n",
            "weighted avg       0.86      0.86      0.86        71\n",
            "\n"
          ]
        }
      ]
    },
    {
      "cell_type": "code",
      "source": [
        "# create a confusion matrix with the test data\n",
        "ConfusionMatrixDisplay.from_predictions(y_test, log_reg_test_preds, normalize='true', display_labels=labels, cmap='Greens');"
      ],
      "metadata": {
        "colab": {
          "base_uri": "https://localhost:8080/",
          "height": 361
        },
        "id": "sZhKxEqrtmrK",
        "outputId": "185f12bd-73e7-44ec-ff87-37a902769a64"
      },
      "execution_count": 153,
      "outputs": [
        {
          "output_type": "display_data",
          "data": {
            "text/plain": [
              "<Figure size 576x396 with 2 Axes>"
            ],
            "image/png": "[encoded data removed]"
          },
          "metadata": {}
        }
      ]
    },
    {
      "cell_type": "markdown",
      "source": [
        "#### Changing Decision Thresholds"
      ],
      "metadata": {
        "id": "T64IBaK6uAXZ"
      }
    },
    {
      "cell_type": "code",
      "source": [
        "# Get the predicted probabilities instead of predicted classes\n",
        "train_probs = log_reg_pipe.predict_proba(X_train)\n",
        "test_probs = log_reg_pipe.predict_proba(X_test)"
      ],
      "metadata": {
        "id": "pJAf5I15uB9t"
      },
      "execution_count": 154,
      "outputs": []
    },
    {
      "cell_type": "code",
      "source": [
        "# Display the first 5 sets of probabilities\n",
        "train_probs[:5]"
      ],
      "metadata": {
        "colab": {
          "base_uri": "https://localhost:8080/"
        },
        "id": "rdQTkYXwuLHb",
        "outputId": "2f470639-f2b7-4374-8ea0-332063204203"
      },
      "execution_count": 155,
      "outputs": [
        {
          "output_type": "execute_result",
          "data": {
            "text/plain": [
              "array([[0.81934974, 0.18065026],\n",
              "       [0.85863793, 0.14136207],\n",
              "       [0.84975444, 0.15024556],\n",
              "       [0.16346421, 0.83653579],\n",
              "       [0.35200594, 0.64799406]])"
            ]
          },
          "metadata": {},
          "execution_count": 155
        }
      ]
    },
    {
      "cell_type": "code",
      "source": [
        "# Set the thresh variable value\n",
        "thresh = 0.3\n",
        "\n",
        "# use a list comprehension to apply threshold to 2nd value in each prediction\n",
        "train_thresh = [1 if x[1] > thresh else 0 for x in train_probs]\n",
        "test_thresh = [1 if x[1] > thresh else 0 for x in test_probs]\n",
        "\n",
        "print(f'Predictions with the default decision of threshold of .5')\n",
        "print(log_reg_train_preds[:5], '\\n')\n",
        "\n",
        "print(f'Predictions with the default decision of threshold of {thresh}')\n",
        "print(train_thresh[:5], '\\n')\n",
        "\n",
        "print('True Labels')\n",
        "print(y_train[:5].values)"
      ],
      "metadata": {
        "colab": {
          "base_uri": "https://localhost:8080/"
        },
        "id": "SRXAoQiGuRUr",
        "outputId": "9167bdc1-1e2d-4c15-bb8e-66c0de1d4164"
      },
      "execution_count": 156,
      "outputs": [
        {
          "output_type": "stream",
          "name": "stdout",
          "text": [
            "Predictions with the default decision of threshold of .5\n",
            "[0 0 0 1 1] \n",
            "\n",
            "Predictions with the default decision of threshold of 0.3\n",
            "[0, 0, 0, 1, 1] \n",
            "\n",
            "True Labels\n",
            "[0 0 0 1 1]\n"
          ]
        }
      ]
    },
    {
      "cell_type": "markdown",
      "source": [
        "#### Compare Confision Matrices"
      ],
      "metadata": {
        "id": "0Di2iEusvLvS"
      }
    },
    {
      "cell_type": "code",
      "source": [
        "## Plot confusion matrices for both .5 and a 'thresh' thresholds\n",
        "fig, axes = plt.subplots(1,2, figsize=(15,5))\n",
        "\n",
        "## Confusion Matrix for default threshold value of .5\n",
        "ConfusionMatrixDisplay.from_predictions(y_test, log_reg_test_preds, \n",
        "               normalize='true', display_labels=labels,  cmap='Greens',              \n",
        "               ax=axes[0])\n",
        "axes[0].set_title('Decision Threshold .5');\n",
        "\n",
        "## Confusion Matrix for threshold value of thresh\n",
        "ConfusionMatrixDisplay.from_predictions(y_test, test_thresh, \n",
        "               normalize='true', display_labels=labels,  cmap='Blues',\n",
        "               ax=axes[1])\n",
        "axes[1].set_title(f'Decision Threshold {thresh}');"
      ],
      "metadata": {
        "colab": {
          "base_uri": "https://localhost:8080/",
          "height": 349
        },
        "id": "ZoKzwvsDvOaZ",
        "outputId": "c96a9f7e-8fff-400c-c0b2-33d34a715873"
      },
      "execution_count": 157,
      "outputs": [
        {
          "output_type": "display_data",
          "data": {
            "text/plain": [
              "<Figure size 1080x360 with 4 Axes>"
            ],
            "image/png": "[encoded data removed]"
          },
          "metadata": {}
        }
      ]
    },
    {
      "cell_type": "markdown",
      "source": [
        "#### Loop Over Decision Thresholds"
      ],
      "metadata": {
        "id": "VDfufWKp0MSO"
      }
    },
    {
      "cell_type": "code",
      "source": [
        "# Create an array of 20 thresholds to use\n",
        "thresholds = np.array(range(0,105,5))/100\n",
        "thresholds[:5]"
      ],
      "metadata": {
        "colab": {
          "base_uri": "https://localhost:8080/"
        },
        "id": "vXmvwm7t0OJc",
        "outputId": "cbedfd05-f90c-40d1-927f-e76b0c1ff37f"
      },
      "execution_count": 62,
      "outputs": [
        {
          "output_type": "execute_result",
          "data": {
            "text/plain": [
              "array([0.  , 0.05, 0.1 , 0.15, 0.2 ])"
            ]
          },
          "metadata": {},
          "execution_count": 62
        }
      ]
    },
    {
      "cell_type": "code",
      "source": [
        "# Create a scores_df to store Accuracy Scores\n",
        "score_df = pd.DataFrame(index=thresholds, columns=['Train Accuracy', 'Test Accuracy'])\n",
        "\n",
        "for thresh in thresholds:\n",
        "  train_thresh = [1 if x[1] > thresh else 0 for x in train_probs]\n",
        "  test_thresh = [1 if x[1] > thresh else 0 for x in test_probs]\n",
        "\n",
        "  score_df.loc[thresh, 'Train Accuracy'] = accuracy_score(train_thresh, y_train)\n",
        "  score_df.loc[thresh, 'Test Accuracy'] = accuracy_score(test_thresh, y_test)\n",
        "\n",
        "score_df.plot(marker='.')\n",
        "plt.xlabel('Decision Threshold')\n",
        "plt.ylabel('Accuracy Score')"
      ],
      "metadata": {
        "colab": {
          "base_uri": "https://localhost:8080/",
          "height": 296
        },
        "id": "bUquhK3E0ZaN",
        "outputId": "e93178b8-d602-47d2-c191-5d1647c71e41"
      },
      "execution_count": 64,
      "outputs": [
        {
          "output_type": "execute_result",
          "data": {
            "text/plain": [
              "Text(0, 0.5, 'Accuracy Score')"
            ]
          },
          "metadata": {},
          "execution_count": 64
        },
        {
          "output_type": "display_data",
          "data": {
            "text/plain": [
              "<Figure size 432x288 with 1 Axes>"
            ],
            "image/png": "[encoded data removed]"
          },
          "metadata": {
            "needs_background": "light"
          }
        }
      ]
    },
    {
      "cell_type": "code",
      "source": [
        "score_df.sort_values(by='Test Accuracy', ascending=False).head()"
      ],
      "metadata": {
        "colab": {
          "base_uri": "https://localhost:8080/",
          "height": 206
        },
        "id": "wcuop2nJ1G9U",
        "outputId": "04b9db36-ad01-4ae3-9d12-9e85a4c6e99a"
      },
      "execution_count": 65,
      "outputs": [
        {
          "output_type": "execute_result",
          "data": {
            "text/plain": [
              "     Train Accuracy Test Accuracy\n",
              "0.60       0.919048      0.887324\n",
              "0.55        0.92381      0.887324\n",
              "0.50       0.928571      0.859155\n",
              "0.65       0.890476       0.84507\n",
              "0.40       0.914286      0.830986"
            ],
            "text/html": [
              "\n",
              "  <div id=\"df-c078d321-01ae-4903-a376-b02c1345d1f1\">\n",
              "    <div class=\"colab-df-container\">\n",
              "      <div>\n",
              "<style scoped>\n",
              "    .dataframe tbody tr th:only-of-type {\n",
              "        vertical-align: middle;\n",
              "    }\n",
              "\n",
              "    .dataframe tbody tr th {\n",
              "        vertical-align: top;\n",
              "    }\n",
              "\n",
              "    .dataframe thead th {\n",
              "        text-align: right;\n",
              "    }\n",
              "</style>\n",
              "<table border=\"1\" class=\"dataframe\">\n",
              "  <thead>\n",
              "    <tr style=\"text-align: right;\">\n",
              "      <th></th>\n",
              "      <th>Train Accuracy</th>\n",
              "      <th>Test Accuracy</th>\n",
              "    </tr>\n",
              "  </thead>\n",
              "  <tbody>\n",
              "    <tr>\n",
              "      <th>0.60</th>\n",
              "      <td>0.919048</td>\n",
              "      <td>0.887324</td>\n",
              "    </tr>\n",
              "    <tr>\n",
              "      <th>0.55</th>\n",
              "      <td>0.92381</td>\n",
              "      <td>0.887324</td>\n",
              "    </tr>\n",
              "    <tr>\n",
              "      <th>0.50</th>\n",
              "      <td>0.928571</td>\n",
              "      <td>0.859155</td>\n",
              "    </tr>\n",
              "    <tr>\n",
              "      <th>0.65</th>\n",
              "      <td>0.890476</td>\n",
              "      <td>0.84507</td>\n",
              "    </tr>\n",
              "    <tr>\n",
              "      <th>0.40</th>\n",
              "      <td>0.914286</td>\n",
              "      <td>0.830986</td>\n",
              "    </tr>\n",
              "  </tbody>\n",
              "</table>\n",
              "</div>\n",
              "      <button class=\"colab-df-convert\" onclick=\"convertToInteractive('df-c078d321-01ae-4903-a376-b02c1345d1f1')\"\n",
              "              title=\"Convert this dataframe to an interactive table.\"\n",
              "              style=\"display:none;\">\n",
              "        \n",
              "  <svg xmlns=\"http://www.w3.org/2000/svg\" height=\"24px\"viewBox=\"0 0 24 24\"\n",
              "       width=\"24px\">\n",
              "    <path d=\"M0 0h24v24H0V0z\" fill=\"none\"/>\n",
              "    <path d=\"M18.56 5.44l.94 2.06.94-2.06 2.06-.94-2.06-.94-.94-2.06-.94 2.06-2.06.94zm-11 1L8.5 8.5l.94-2.06 2.06-.94-2.06-.94L8.5 2.5l-.94 2.06-2.06.94zm10 10l.94 2.06.94-2.06 2.06-.94-2.06-.94-.94-2.06-.94 2.06-2.06.94z\"/><path d=\"M17.41 7.96l-1.37-1.37c-.4-.4-.92-.59-1.43-.59-.52 0-1.04.2-1.43.59L10.3 9.45l-7.72 7.72c-.78.78-.78 2.05 0 2.83L4 21.41c.39.39.9.59 1.41.59.51 0 1.02-.2 1.41-.59l7.78-7.78 2.81-2.81c.8-.78.8-2.07 0-2.86zM5.41 20L4 18.59l7.72-7.72 1.47 1.35L5.41 20z\"/>\n",
              "  </svg>\n",
              "      </button>\n",
              "      \n",
              "  <style>\n",
              "    .colab-df-container {\n",
              "      display:flex;\n",
              "      flex-wrap:wrap;\n",
              "      gap: 12px;\n",
              "    }\n",
              "\n",
              "    .colab-df-convert {\n",
              "      background-color: #E8F0FE;\n",
              "      border: none;\n",
              "      border-radius: 50%;\n",
              "      cursor: pointer;\n",
              "      display: none;\n",
              "      fill: #1967D2;\n",
              "      height: 32px;\n",
              "      padding: 0 0 0 0;\n",
              "      width: 32px;\n",
              "    }\n",
              "\n",
              "    .colab-df-convert:hover {\n",
              "      background-color: #E2EBFA;\n",
              "      box-shadow: 0px 1px 2px rgba(60, 64, 67, 0.3), 0px 1px 3px 1px rgba(60, 64, 67, 0.15);\n",
              "      fill: #174EA6;\n",
              "    }\n",
              "\n",
              "    [theme=dark] .colab-df-convert {\n",
              "      background-color: #3B4455;\n",
              "      fill: #D2E3FC;\n",
              "    }\n",
              "\n",
              "    [theme=dark] .colab-df-convert:hover {\n",
              "      background-color: #434B5C;\n",
              "      box-shadow: 0px 1px 3px 1px rgba(0, 0, 0, 0.15);\n",
              "      filter: drop-shadow(0px 1px 2px rgba(0, 0, 0, 0.3));\n",
              "      fill: #FFFFFF;\n",
              "    }\n",
              "  </style>\n",
              "\n",
              "      <script>\n",
              "        const buttonEl =\n",
              "          document.querySelector('#df-c078d321-01ae-4903-a376-b02c1345d1f1 button.colab-df-convert');\n",
              "        buttonEl.style.display =\n",
              "          google.colab.kernel.accessAllowed ? 'block' : 'none';\n",
              "\n",
              "        async function convertToInteractive(key) {\n",
              "          const element = document.querySelector('#df-c078d321-01ae-4903-a376-b02c1345d1f1');\n",
              "          const dataTable =\n",
              "            await google.colab.kernel.invokeFunction('convertToInteractive',\n",
              "                                                     [key], {});\n",
              "          if (!dataTable) return;\n",
              "\n",
              "          const docLinkHtml = 'Like what you see? Visit the ' +\n",
              "            '<a target=\"_blank\" href=https://colab.research.google.com/notebooks/data_table.ipynb>data table notebook</a>'\n",
              "            + ' to learn more about interactive tables.';\n",
              "          element.innerHTML = '';\n",
              "          dataTable['output_type'] = 'display_data';\n",
              "          await google.colab.output.renderOutput(dataTable, element);\n",
              "          const docLink = document.createElement('div');\n",
              "          docLink.innerHTML = docLinkHtml;\n",
              "          element.appendChild(docLink);\n",
              "        }\n",
              "      </script>\n",
              "    </div>\n",
              "  </div>\n",
              "  "
            ]
          },
          "metadata": {},
          "execution_count": 65
        }
      ]
    },
    {
      "cell_type": "markdown",
      "source": [
        "#### Roc Curve"
      ],
      "metadata": {
        "id": "LoJrvPMd1WZb"
      }
    },
    {
      "cell_type": "code",
      "source": [
        "RocCurveDisplay.from_estimator(log_reg_pipe, X_test, y_test);"
      ],
      "metadata": {
        "colab": {
          "base_uri": "https://localhost:8080/",
          "height": 279
        },
        "id": "37BlIzbA1c2a",
        "outputId": "28453f12-e71b-442f-d0a5-b25eba8faf0b"
      },
      "execution_count": 66,
      "outputs": [
        {
          "output_type": "display_data",
          "data": {
            "text/plain": [
              "<Figure size 432x288 with 1 Axes>"
            ],
            "image/png": "[encoded data removed]"
          },
          "metadata": {
            "needs_background": "light"
          }
        }
      ]
    },
    {
      "cell_type": "markdown",
      "source": [
        "#### Precision Recall Curve"
      ],
      "metadata": {
        "id": "-hXQdMVW1mca"
      }
    },
    {
      "cell_type": "code",
      "source": [
        "PrecisionRecallDisplay.from_estimator(log_reg_pipe, X_test, y_test);"
      ],
      "metadata": {
        "colab": {
          "base_uri": "https://localhost:8080/",
          "height": 279
        },
        "id": "U4R4eglX1ibx",
        "outputId": "2ee6bef2-d47e-4a77-973f-2574fdf6ebc5"
      },
      "execution_count": 67,
      "outputs": [
        {
          "output_type": "display_data",
          "data": {
            "text/plain": [
              "<Figure size 432x288 with 1 Axes>"
            ],
            "image/png": "[encoded data removed]"
          },
          "metadata": {
            "needs_background": "light"
          }
        }
      ]
    },
    {
      "cell_type": "markdown",
      "source": [
        "#### Classification Metrics"
      ],
      "metadata": {
        "id": "rNk1sL1m19ox"
      }
    },
    {
      "cell_type": "code",
      "source": [
        "classification_metrics(log_reg_pipe, X_train,y_train, \n",
        "                         cmap='Blues', label='Training Data')\n",
        "classification_metrics(log_reg_pipe, X_test,y_test, \n",
        "                         cmap='Greens',label='Test Data')"
      ],
      "metadata": {
        "colab": {
          "base_uri": "https://localhost:8080/",
          "height": 1000
        },
        "id": "9vPUgCt91_NZ",
        "outputId": "1c330785-757d-4af1-c675-614b1f2044c7"
      },
      "execution_count": 69,
      "outputs": [
        {
          "output_type": "stream",
          "name": "stdout",
          "text": [
            "------------------------------------------------------------\n",
            "[i] CLASSIFICATION REPORT FOR: Training Data\n",
            "------------------------------------------------------------\n",
            "              precision    recall  f1-score   support\n",
            "\n",
            "           0       0.91      0.94      0.93       100\n",
            "           1       0.94      0.92      0.93       110\n",
            "\n",
            "    accuracy                           0.93       210\n",
            "   macro avg       0.93      0.93      0.93       210\n",
            "weighted avg       0.93      0.93      0.93       210\n",
            "\n"
          ]
        },
        {
          "output_type": "display_data",
          "data": {
            "text/plain": [
              "<Figure size 1080x360 with 3 Axes>"
            ],
            "image/png": "[encoded data removed]"
          },
          "metadata": {
            "needs_background": "light"
          }
        },
        {
          "output_type": "stream",
          "name": "stdout",
          "text": [
            "------------------------------------------------------------\n",
            "[i] CLASSIFICATION REPORT FOR: Test Data\n",
            "------------------------------------------------------------\n",
            "              precision    recall  f1-score   support\n",
            "\n",
            "           0       0.85      0.85      0.85        34\n",
            "           1       0.86      0.86      0.86        37\n",
            "\n",
            "    accuracy                           0.86        71\n",
            "   macro avg       0.86      0.86      0.86        71\n",
            "weighted avg       0.86      0.86      0.86        71\n",
            "\n"
          ]
        },
        {
          "output_type": "display_data",
          "data": {
            "text/plain": [
              "<Figure size 1080x360 with 3 Axes>"
            ],
            "image/png": "[encoded data removed]"
          },
          "metadata": {
            "needs_background": "light"
          }
        }
      ]
    },
    {
      "cell_type": "markdown",
      "source": [
        "### KNN Model"
      ],
      "metadata": {
        "id": "30_0FBJq-gyx"
      }
    },
    {
      "cell_type": "markdown",
      "source": [
        "#### Untuned KNN Model"
      ],
      "metadata": {
        "id": "XmH4ltGJEBWT"
      }
    },
    {
      "cell_type": "code",
      "source": [
        "# Create an instance of the model\n",
        "knn = KNeighborsClassifier()\n",
        "# Create a model pipeline\n",
        "knn_pipe = make_pipeline(preprocessor, knn)\n",
        "# Fit the model\n",
        "knn_pipe.fit(X_train, y_train)"
      ],
      "metadata": {
        "colab": {
          "base_uri": "https://localhost:8080/",
          "height": 189
        },
        "id": "9ymriW4Z-lsb",
        "outputId": "c6717009-7fd0-4e6f-fe81-fc30e3d48e5d"
      },
      "execution_count": 72,
      "outputs": [
        {
          "output_type": "execute_result",
          "data": {
            "text/plain": [
              "Pipeline(steps=[('columntransformer',\n",
              "                 ColumnTransformer(transformers=[('simpleimputer',\n",
              "                                                  SimpleImputer(),\n",
              "                                                  <sklearn.compose._column_transformer.make_column_selector object at 0x7f55bb1b66d0>),\n",
              "                                                 ('onehotencoder',\n",
              "                                                  OneHotEncoder(handle_unknown='ignore',\n",
              "                                                                sparse=False),\n",
              "                                                  <sklearn.compose._column_transformer.make_column_selector object at 0x7f55bb1b6dc0>)])),\n",
              "                ('kneighborsclassifier', KNeighborsClassifier())])"
            ],
            "text/html": [
              "<style>#sk-8c1e7a11-9848-48c8-b177-9dc8e50642f0 {color: black;background-color: white;}#sk-8c1e7a11-9848-48c8-b177-9dc8e50642f0 pre{padding: 0;}#sk-8c1e7a11-9848-48c8-b177-9dc8e50642f0 div.sk-toggleable {background-color: white;}#sk-8c1e7a11-9848-48c8-b177-9dc8e50642f0 label.sk-toggleable__label {cursor: pointer;display: block;width: 100%;margin-bottom: 0;padding: 0.3em;box-sizing: border-box;text-align: center;}#sk-8c1e7a11-9848-48c8-b177-9dc8e50642f0 label.sk-toggleable__label-arrow:before {content: \"▸\";float: left;margin-right: 0.25em;color: #696969;}#sk-8c1e7a11-9848-48c8-b177-9dc8e50642f0 label.sk-toggleable__label-arrow:hover:before {color: black;}#sk-8c1e7a11-9848-48c8-b177-9dc8e50642f0 div.sk-estimator:hover label.sk-toggleable__label-arrow:before {color: black;}#sk-8c1e7a11-9848-48c8-b177-9dc8e50642f0 div.sk-toggleable__content {max-height: 0;max-width: 0;overflow: hidden;text-align: left;background-color: #f0f8ff;}#sk-8c1e7a11-9848-48c8-b177-9dc8e50642f0 div.sk-toggleable__content pre {margin: 0.2em;color: black;border-radius: 0.25em;background-color: #f0f8ff;}#sk-8c1e7a11-9848-48c8-b177-9dc8e50642f0 input.sk-toggleable__control:checked~div.sk-toggleable__content {max-height: 200px;max-width: 100%;overflow: auto;}#sk-8c1e7a11-9848-48c8-b177-9dc8e50642f0 input.sk-toggleable__control:checked~label.sk-toggleable__label-arrow:before {content: \"▾\";}#sk-8c1e7a11-9848-48c8-b177-9dc8e50642f0 div.sk-estimator input.sk-toggleable__control:checked~label.sk-toggleable__label {background-color: #d4ebff;}#sk-8c1e7a11-9848-48c8-b177-9dc8e50642f0 div.sk-label input.sk-toggleable__control:checked~label.sk-toggleable__label {background-color: #d4ebff;}#sk-8c1e7a11-9848-48c8-b177-9dc8e50642f0 input.sk-hidden--visually {border: 0;clip: rect(1px 1px 1px 1px);clip: rect(1px, 1px, 1px, 1px);height: 1px;margin: -1px;overflow: hidden;padding: 0;position: absolute;width: 1px;}#sk-8c1e7a11-9848-48c8-b177-9dc8e50642f0 div.sk-estimator {font-family: monospace;background-color: #f0f8ff;border: 1px dotted black;border-radius: 0.25em;box-sizing: border-box;margin-bottom: 0.5em;}#sk-8c1e7a11-9848-48c8-b177-9dc8e50642f0 div.sk-estimator:hover {background-color: #d4ebff;}#sk-8c1e7a11-9848-48c8-b177-9dc8e50642f0 div.sk-parallel-item::after {content: \"\";width: 100%;border-bottom: 1px solid gray;flex-grow: 1;}#sk-8c1e7a11-9848-48c8-b177-9dc8e50642f0 div.sk-label:hover label.sk-toggleable__label {background-color: #d4ebff;}#sk-8c1e7a11-9848-48c8-b177-9dc8e50642f0 div.sk-serial::before {content: \"\";position: absolute;border-left: 1px solid gray;box-sizing: border-box;top: 2em;bottom: 0;left: 50%;}#sk-8c1e7a11-9848-48c8-b177-9dc8e50642f0 div.sk-serial {display: flex;flex-direction: column;align-items: center;background-color: white;padding-right: 0.2em;padding-left: 0.2em;}#sk-8c1e7a11-9848-48c8-b177-9dc8e50642f0 div.sk-item {z-index: 1;}#sk-8c1e7a11-9848-48c8-b177-9dc8e50642f0 div.sk-parallel {display: flex;align-items: stretch;justify-content: center;background-color: white;}#sk-8c1e7a11-9848-48c8-b177-9dc8e50642f0 div.sk-parallel::before {content: \"\";position: absolute;border-left: 1px solid gray;box-sizing: border-box;top: 2em;bottom: 0;left: 50%;}#sk-8c1e7a11-9848-48c8-b177-9dc8e50642f0 div.sk-parallel-item {display: flex;flex-direction: column;position: relative;background-color: white;}#sk-8c1e7a11-9848-48c8-b177-9dc8e50642f0 div.sk-parallel-item:first-child::after {align-self: flex-end;width: 50%;}#sk-8c1e7a11-9848-48c8-b177-9dc8e50642f0 div.sk-parallel-item:last-child::after {align-self: flex-start;width: 50%;}#sk-8c1e7a11-9848-48c8-b177-9dc8e50642f0 div.sk-parallel-item:only-child::after {width: 0;}#sk-8c1e7a11-9848-48c8-b177-9dc8e50642f0 div.sk-dashed-wrapped {border: 1px dashed gray;margin: 0 0.4em 0.5em 0.4em;box-sizing: border-box;padding-bottom: 0.4em;background-color: white;position: relative;}#sk-8c1e7a11-9848-48c8-b177-9dc8e50642f0 div.sk-label label {font-family: monospace;font-weight: bold;background-color: white;display: inline-block;line-height: 1.2em;}#sk-8c1e7a11-9848-48c8-b177-9dc8e50642f0 div.sk-label-container {position: relative;z-index: 2;text-align: center;}#sk-8c1e7a11-9848-48c8-b177-9dc8e50642f0 div.sk-container {/* jupyter's `normalize.less` sets `[hidden] { display: none; }` but bootstrap.min.css set `[hidden] { display: none !important; }` so we also need the `!important` here to be able to override the default hidden behavior on the sphinx rendered scikit-learn.org. See: https://github.com/scikit-learn/scikit-learn/issues/21755 */display: inline-block !important;position: relative;}#sk-8c1e7a11-9848-48c8-b177-9dc8e50642f0 div.sk-text-repr-fallback {display: none;}</style><div id=\"sk-8c1e7a11-9848-48c8-b177-9dc8e50642f0\" class=\"sk-top-container\"><div class=\"sk-text-repr-fallback\"><pre>Pipeline(steps=[(&#x27;columntransformer&#x27;,\n",
              "                 ColumnTransformer(transformers=[(&#x27;simpleimputer&#x27;,\n",
              "                                                  SimpleImputer(),\n",
              "                                                  &lt;sklearn.compose._column_transformer.make_column_selector object at 0x7f55bb1b66d0&gt;),\n",
              "                                                 (&#x27;onehotencoder&#x27;,\n",
              "                                                  OneHotEncoder(handle_unknown=&#x27;ignore&#x27;,\n",
              "                                                                sparse=False),\n",
              "                                                  &lt;sklearn.compose._column_transformer.make_column_selector object at 0x7f55bb1b6dc0&gt;)])),\n",
              "                (&#x27;kneighborsclassifier&#x27;, KNeighborsClassifier())])</pre><b>Please rerun this cell to show the HTML repr or trust the notebook.</b></div><div class=\"sk-container\" hidden><div class=\"sk-item sk-dashed-wrapped\"><div class=\"sk-label-container\"><div class=\"sk-label sk-toggleable\"><input class=\"sk-toggleable__control sk-hidden--visually\" id=\"1cbba22b-73c3-4e15-b0fe-0d21c6a23daa\" type=\"checkbox\" ><label for=\"1cbba22b-73c3-4e15-b0fe-0d21c6a23daa\" class=\"sk-toggleable__label sk-toggleable__label-arrow\">Pipeline</label><div class=\"sk-toggleable__content\"><pre>Pipeline(steps=[(&#x27;columntransformer&#x27;,\n",
              "                 ColumnTransformer(transformers=[(&#x27;simpleimputer&#x27;,\n",
              "                                                  SimpleImputer(),\n",
              "                                                  &lt;sklearn.compose._column_transformer.make_column_selector object at 0x7f55bb1b66d0&gt;),\n",
              "                                                 (&#x27;onehotencoder&#x27;,\n",
              "                                                  OneHotEncoder(handle_unknown=&#x27;ignore&#x27;,\n",
              "                                                                sparse=False),\n",
              "                                                  &lt;sklearn.compose._column_transformer.make_column_selector object at 0x7f55bb1b6dc0&gt;)])),\n",
              "                (&#x27;kneighborsclassifier&#x27;, KNeighborsClassifier())])</pre></div></div></div><div class=\"sk-serial\"><div class=\"sk-item sk-dashed-wrapped\"><div class=\"sk-label-container\"><div class=\"sk-label sk-toggleable\"><input class=\"sk-toggleable__control sk-hidden--visually\" id=\"b95bda17-2605-4680-8238-029f5221a490\" type=\"checkbox\" ><label for=\"b95bda17-2605-4680-8238-029f5221a490\" class=\"sk-toggleable__label sk-toggleable__label-arrow\">columntransformer: ColumnTransformer</label><div class=\"sk-toggleable__content\"><pre>ColumnTransformer(transformers=[(&#x27;simpleimputer&#x27;, SimpleImputer(),\n",
              "                                 &lt;sklearn.compose._column_transformer.make_column_selector object at 0x7f55bb1b66d0&gt;),\n",
              "                                (&#x27;onehotencoder&#x27;,\n",
              "                                 OneHotEncoder(handle_unknown=&#x27;ignore&#x27;,\n",
              "                                               sparse=False),\n",
              "                                 &lt;sklearn.compose._column_transformer.make_column_selector object at 0x7f55bb1b6dc0&gt;)])</pre></div></div></div><div class=\"sk-parallel\"><div class=\"sk-parallel-item\"><div class=\"sk-item\"><div class=\"sk-label-container\"><div class=\"sk-label sk-toggleable\"><input class=\"sk-toggleable__control sk-hidden--visually\" id=\"f28712fe-fe07-4707-aa74-c694b7c435fc\" type=\"checkbox\" ><label for=\"f28712fe-fe07-4707-aa74-c694b7c435fc\" class=\"sk-toggleable__label sk-toggleable__label-arrow\">simpleimputer</label><div class=\"sk-toggleable__content\"><pre>&lt;sklearn.compose._column_transformer.make_column_selector object at 0x7f55bb1b66d0&gt;</pre></div></div></div><div class=\"sk-serial\"><div class=\"sk-item\"><div class=\"sk-estimator sk-toggleable\"><input class=\"sk-toggleable__control sk-hidden--visually\" id=\"73747dc8-4617-4c08-a013-03bccf6fcfb0\" type=\"checkbox\" ><label for=\"73747dc8-4617-4c08-a013-03bccf6fcfb0\" class=\"sk-toggleable__label sk-toggleable__label-arrow\">SimpleImputer</label><div class=\"sk-toggleable__content\"><pre>SimpleImputer()</pre></div></div></div></div></div></div><div class=\"sk-parallel-item\"><div class=\"sk-item\"><div class=\"sk-label-container\"><div class=\"sk-label sk-toggleable\"><input class=\"sk-toggleable__control sk-hidden--visually\" id=\"b2014bd5-feb0-4385-920e-26807743770b\" type=\"checkbox\" ><label for=\"b2014bd5-feb0-4385-920e-26807743770b\" class=\"sk-toggleable__label sk-toggleable__label-arrow\">onehotencoder</label><div class=\"sk-toggleable__content\"><pre>&lt;sklearn.compose._column_transformer.make_column_selector object at 0x7f55bb1b6dc0&gt;</pre></div></div></div><div class=\"sk-serial\"><div class=\"sk-item\"><div class=\"sk-estimator sk-toggleable\"><input class=\"sk-toggleable__control sk-hidden--visually\" id=\"9e0b3303-748e-46df-a3d8-88214e66c157\" type=\"checkbox\" ><label for=\"9e0b3303-748e-46df-a3d8-88214e66c157\" class=\"sk-toggleable__label sk-toggleable__label-arrow\">OneHotEncoder</label><div class=\"sk-toggleable__content\"><pre>OneHotEncoder(handle_unknown=&#x27;ignore&#x27;, sparse=False)</pre></div></div></div></div></div></div></div></div><div class=\"sk-item\"><div class=\"sk-estimator sk-toggleable\"><input class=\"sk-toggleable__control sk-hidden--visually\" id=\"51a6b792-4f38-4c35-abda-febbd42dea8d\" type=\"checkbox\" ><label for=\"51a6b792-4f38-4c35-abda-febbd42dea8d\" class=\"sk-toggleable__label sk-toggleable__label-arrow\">KNeighborsClassifier</label><div class=\"sk-toggleable__content\"><pre>KNeighborsClassifier()</pre></div></div></div></div></div></div></div>"
            ]
          },
          "metadata": {},
          "execution_count": 72
        }
      ]
    },
    {
      "cell_type": "code",
      "source": [
        "# Save the model's predictions for the train dataset\n",
        "knn_train_preds = knn_pipe.predict(X_train)\n",
        "# Save the model's predictions for the test dataset\n",
        "knn_test_preds = knn_pipe.predict(X_test)"
      ],
      "metadata": {
        "id": "3zMBaOFx_LnG"
      },
      "execution_count": 74,
      "outputs": []
    },
    {
      "cell_type": "code",
      "source": [
        "# Save the Classification Report\n",
        "knn_train_report = classification_report(y_train, knn_train_preds,\n",
        "                                         target_names=labels)\n",
        "knn_test_report = classification_report(y_test, knn_test_preds,\n",
        "                                         target_names=labels)\n",
        "print('Classification Report for Train\\n')\n",
        "print(knn_train_report)\n",
        "\n",
        "print('Classification Report for Test\\n')\n",
        "print(knn_test_report)"
      ],
      "metadata": {
        "colab": {
          "base_uri": "https://localhost:8080/"
        },
        "id": "JxR17WFBBNfZ",
        "outputId": "61513899-f292-4fce-b263-13a8d7412618"
      },
      "execution_count": 90,
      "outputs": [
        {
          "output_type": "stream",
          "name": "stdout",
          "text": [
            "Classification Report for Train\n",
            "\n",
            "              precision    recall  f1-score   support\n",
            "\n",
            "       drugQ       0.73      0.88      0.80       100\n",
            "       drugZ       0.87      0.70      0.77       110\n",
            "\n",
            "    accuracy                           0.79       210\n",
            "   macro avg       0.80      0.79      0.79       210\n",
            "weighted avg       0.80      0.79      0.78       210\n",
            "\n",
            "Classification Report for Test\n",
            "\n",
            "              precision    recall  f1-score   support\n",
            "\n",
            "       drugQ       0.71      0.71      0.71        34\n",
            "       drugZ       0.73      0.73      0.73        37\n",
            "\n",
            "    accuracy                           0.72        71\n",
            "   macro avg       0.72      0.72      0.72        71\n",
            "weighted avg       0.72      0.72      0.72        71\n",
            "\n"
          ]
        }
      ]
    },
    {
      "cell_type": "markdown",
      "source": [
        "#### Tune KNN Model"
      ],
      "metadata": {
        "id": "Kw-J5TxeBYpc"
      }
    },
    {
      "cell_type": "code",
      "source": [
        "krange = range(1, 15)\n",
        "k_list = []\n",
        "for k in krange:\n",
        "  knn = KNeighborsClassifier(n_neighbors=k)\n",
        "  knn_pipe = make_pipeline(preprocessor,knn)\n",
        "  knn_pipe.fit(X_train, y_train)\n",
        "  score = accuracy_score(y_test, knn_pipe.predict(X_test))\n",
        "  k_list.append(score)"
      ],
      "metadata": {
        "id": "VHrQ71rLBbsw"
      },
      "execution_count": 84,
      "outputs": []
    },
    {
      "cell_type": "code",
      "source": [
        "# Visualize Accuracy Scores\n",
        "plt.plot(krange, k_list)\n",
        "plt.xlabel('K Number of Neighbors')\n",
        "plt.ylabel('Score');"
      ],
      "metadata": {
        "colab": {
          "base_uri": "https://localhost:8080/",
          "height": 279
        },
        "id": "4xUhsl9_Cpty",
        "outputId": "7d64ceba-9396-44f0-fe76-a50834e8911e"
      },
      "execution_count": 85,
      "outputs": [
        {
          "output_type": "display_data",
          "data": {
            "text/plain": [
              "<Figure size 432x288 with 1 Axes>"
            ],
            "image/png": "[encoded data removed]"
          },
          "metadata": {
            "needs_background": "light"
          }
        }
      ]
    },
    {
      "cell_type": "code",
      "source": [
        "# Create an instance of the best model\n",
        "knn_tuned = KNeighborsClassifier(n_neighbors = 3)\n",
        "# Create a model pipeline\n",
        "knn_tuned_pipe = make_pipeline(preprocessor, knn_tuned)\n",
        "# Fit the model\n",
        "knn_tuned_pipe.fit(X_train, y_train)"
      ],
      "metadata": {
        "colab": {
          "base_uri": "https://localhost:8080/",
          "height": 189
        },
        "id": "Ro8BHdRyC4U7",
        "outputId": "b9827731-108d-45f8-a8f1-e70a00adadd3"
      },
      "execution_count": 88,
      "outputs": [
        {
          "output_type": "execute_result",
          "data": {
            "text/plain": [
              "Pipeline(steps=[('columntransformer',\n",
              "                 ColumnTransformer(transformers=[('simpleimputer',\n",
              "                                                  SimpleImputer(),\n",
              "                                                  <sklearn.compose._column_transformer.make_column_selector object at 0x7f55bb1b66d0>),\n",
              "                                                 ('onehotencoder',\n",
              "                                                  OneHotEncoder(handle_unknown='ignore',\n",
              "                                                                sparse=False),\n",
              "                                                  <sklearn.compose._column_transformer.make_column_selector object at 0x7f55bb1b6dc0>)])),\n",
              "                ('kneighborsclassifier', KNeighborsClassifier(n_neighbors=3))])"
            ],
            "text/html": [
              "<style>#sk-31817761-c6e6-4892-bebd-f2fd84bfc33f {color: black;background-color: white;}#sk-31817761-c6e6-4892-bebd-f2fd84bfc33f pre{padding: 0;}#sk-31817761-c6e6-4892-bebd-f2fd84bfc33f div.sk-toggleable {background-color: white;}#sk-31817761-c6e6-4892-bebd-f2fd84bfc33f label.sk-toggleable__label {cursor: pointer;display: block;width: 100%;margin-bottom: 0;padding: 0.3em;box-sizing: border-box;text-align: center;}#sk-31817761-c6e6-4892-bebd-f2fd84bfc33f label.sk-toggleable__label-arrow:before {content: \"▸\";float: left;margin-right: 0.25em;color: #696969;}#sk-31817761-c6e6-4892-bebd-f2fd84bfc33f label.sk-toggleable__label-arrow:hover:before {color: black;}#sk-31817761-c6e6-4892-bebd-f2fd84bfc33f div.sk-estimator:hover label.sk-toggleable__label-arrow:before {color: black;}#sk-31817761-c6e6-4892-bebd-f2fd84bfc33f div.sk-toggleable__content {max-height: 0;max-width: 0;overflow: hidden;text-align: left;background-color: #f0f8ff;}#sk-31817761-c6e6-4892-bebd-f2fd84bfc33f div.sk-toggleable__content pre {margin: 0.2em;color: black;border-radius: 0.25em;background-color: #f0f8ff;}#sk-31817761-c6e6-4892-bebd-f2fd84bfc33f input.sk-toggleable__control:checked~div.sk-toggleable__content {max-height: 200px;max-width: 100%;overflow: auto;}#sk-31817761-c6e6-4892-bebd-f2fd84bfc33f input.sk-toggleable__control:checked~label.sk-toggleable__label-arrow:before {content: \"▾\";}#sk-31817761-c6e6-4892-bebd-f2fd84bfc33f div.sk-estimator input.sk-toggleable__control:checked~label.sk-toggleable__label {background-color: #d4ebff;}#sk-31817761-c6e6-4892-bebd-f2fd84bfc33f div.sk-label input.sk-toggleable__control:checked~label.sk-toggleable__label {background-color: #d4ebff;}#sk-31817761-c6e6-4892-bebd-f2fd84bfc33f input.sk-hidden--visually {border: 0;clip: rect(1px 1px 1px 1px);clip: rect(1px, 1px, 1px, 1px);height: 1px;margin: -1px;overflow: hidden;padding: 0;position: absolute;width: 1px;}#sk-31817761-c6e6-4892-bebd-f2fd84bfc33f div.sk-estimator {font-family: monospace;background-color: #f0f8ff;border: 1px dotted black;border-radius: 0.25em;box-sizing: border-box;margin-bottom: 0.5em;}#sk-31817761-c6e6-4892-bebd-f2fd84bfc33f div.sk-estimator:hover {background-color: #d4ebff;}#sk-31817761-c6e6-4892-bebd-f2fd84bfc33f div.sk-parallel-item::after {content: \"\";width: 100%;border-bottom: 1px solid gray;flex-grow: 1;}#sk-31817761-c6e6-4892-bebd-f2fd84bfc33f div.sk-label:hover label.sk-toggleable__label {background-color: #d4ebff;}#sk-31817761-c6e6-4892-bebd-f2fd84bfc33f div.sk-serial::before {content: \"\";position: absolute;border-left: 1px solid gray;box-sizing: border-box;top: 2em;bottom: 0;left: 50%;}#sk-31817761-c6e6-4892-bebd-f2fd84bfc33f div.sk-serial {display: flex;flex-direction: column;align-items: center;background-color: white;padding-right: 0.2em;padding-left: 0.2em;}#sk-31817761-c6e6-4892-bebd-f2fd84bfc33f div.sk-item {z-index: 1;}#sk-31817761-c6e6-4892-bebd-f2fd84bfc33f div.sk-parallel {display: flex;align-items: stretch;justify-content: center;background-color: white;}#sk-31817761-c6e6-4892-bebd-f2fd84bfc33f div.sk-parallel::before {content: \"\";position: absolute;border-left: 1px solid gray;box-sizing: border-box;top: 2em;bottom: 0;left: 50%;}#sk-31817761-c6e6-4892-bebd-f2fd84bfc33f div.sk-parallel-item {display: flex;flex-direction: column;position: relative;background-color: white;}#sk-31817761-c6e6-4892-bebd-f2fd84bfc33f div.sk-parallel-item:first-child::after {align-self: flex-end;width: 50%;}#sk-31817761-c6e6-4892-bebd-f2fd84bfc33f div.sk-parallel-item:last-child::after {align-self: flex-start;width: 50%;}#sk-31817761-c6e6-4892-bebd-f2fd84bfc33f div.sk-parallel-item:only-child::after {width: 0;}#sk-31817761-c6e6-4892-bebd-f2fd84bfc33f div.sk-dashed-wrapped {border: 1px dashed gray;margin: 0 0.4em 0.5em 0.4em;box-sizing: border-box;padding-bottom: 0.4em;background-color: white;position: relative;}#sk-31817761-c6e6-4892-bebd-f2fd84bfc33f div.sk-label label {font-family: monospace;font-weight: bold;background-color: white;display: inline-block;line-height: 1.2em;}#sk-31817761-c6e6-4892-bebd-f2fd84bfc33f div.sk-label-container {position: relative;z-index: 2;text-align: center;}#sk-31817761-c6e6-4892-bebd-f2fd84bfc33f div.sk-container {/* jupyter's `normalize.less` sets `[hidden] { display: none; }` but bootstrap.min.css set `[hidden] { display: none !important; }` so we also need the `!important` here to be able to override the default hidden behavior on the sphinx rendered scikit-learn.org. See: https://github.com/scikit-learn/scikit-learn/issues/21755 */display: inline-block !important;position: relative;}#sk-31817761-c6e6-4892-bebd-f2fd84bfc33f div.sk-text-repr-fallback {display: none;}</style><div id=\"sk-31817761-c6e6-4892-bebd-f2fd84bfc33f\" class=\"sk-top-container\"><div class=\"sk-text-repr-fallback\"><pre>Pipeline(steps=[(&#x27;columntransformer&#x27;,\n",
              "                 ColumnTransformer(transformers=[(&#x27;simpleimputer&#x27;,\n",
              "                                                  SimpleImputer(),\n",
              "                                                  &lt;sklearn.compose._column_transformer.make_column_selector object at 0x7f55bb1b66d0&gt;),\n",
              "                                                 (&#x27;onehotencoder&#x27;,\n",
              "                                                  OneHotEncoder(handle_unknown=&#x27;ignore&#x27;,\n",
              "                                                                sparse=False),\n",
              "                                                  &lt;sklearn.compose._column_transformer.make_column_selector object at 0x7f55bb1b6dc0&gt;)])),\n",
              "                (&#x27;kneighborsclassifier&#x27;, KNeighborsClassifier(n_neighbors=3))])</pre><b>Please rerun this cell to show the HTML repr or trust the notebook.</b></div><div class=\"sk-container\" hidden><div class=\"sk-item sk-dashed-wrapped\"><div class=\"sk-label-container\"><div class=\"sk-label sk-toggleable\"><input class=\"sk-toggleable__control sk-hidden--visually\" id=\"c5f972ab-b633-4654-87e7-36e1c135655f\" type=\"checkbox\" ><label for=\"c5f972ab-b633-4654-87e7-36e1c135655f\" class=\"sk-toggleable__label sk-toggleable__label-arrow\">Pipeline</label><div class=\"sk-toggleable__content\"><pre>Pipeline(steps=[(&#x27;columntransformer&#x27;,\n",
              "                 ColumnTransformer(transformers=[(&#x27;simpleimputer&#x27;,\n",
              "                                                  SimpleImputer(),\n",
              "                                                  &lt;sklearn.compose._column_transformer.make_column_selector object at 0x7f55bb1b66d0&gt;),\n",
              "                                                 (&#x27;onehotencoder&#x27;,\n",
              "                                                  OneHotEncoder(handle_unknown=&#x27;ignore&#x27;,\n",
              "                                                                sparse=False),\n",
              "                                                  &lt;sklearn.compose._column_transformer.make_column_selector object at 0x7f55bb1b6dc0&gt;)])),\n",
              "                (&#x27;kneighborsclassifier&#x27;, KNeighborsClassifier(n_neighbors=3))])</pre></div></div></div><div class=\"sk-serial\"><div class=\"sk-item sk-dashed-wrapped\"><div class=\"sk-label-container\"><div class=\"sk-label sk-toggleable\"><input class=\"sk-toggleable__control sk-hidden--visually\" id=\"c323279b-b7d2-4059-be66-ccdad7d4053f\" type=\"checkbox\" ><label for=\"c323279b-b7d2-4059-be66-ccdad7d4053f\" class=\"sk-toggleable__label sk-toggleable__label-arrow\">columntransformer: ColumnTransformer</label><div class=\"sk-toggleable__content\"><pre>ColumnTransformer(transformers=[(&#x27;simpleimputer&#x27;, SimpleImputer(),\n",
              "                                 &lt;sklearn.compose._column_transformer.make_column_selector object at 0x7f55bb1b66d0&gt;),\n",
              "                                (&#x27;onehotencoder&#x27;,\n",
              "                                 OneHotEncoder(handle_unknown=&#x27;ignore&#x27;,\n",
              "                                               sparse=False),\n",
              "                                 &lt;sklearn.compose._column_transformer.make_column_selector object at 0x7f55bb1b6dc0&gt;)])</pre></div></div></div><div class=\"sk-parallel\"><div class=\"sk-parallel-item\"><div class=\"sk-item\"><div class=\"sk-label-container\"><div class=\"sk-label sk-toggleable\"><input class=\"sk-toggleable__control sk-hidden--visually\" id=\"8fb41412-63ff-4659-af9d-9f6cb7eeec86\" type=\"checkbox\" ><label for=\"8fb41412-63ff-4659-af9d-9f6cb7eeec86\" class=\"sk-toggleable__label sk-toggleable__label-arrow\">simpleimputer</label><div class=\"sk-toggleable__content\"><pre>&lt;sklearn.compose._column_transformer.make_column_selector object at 0x7f55bb1b66d0&gt;</pre></div></div></div><div class=\"sk-serial\"><div class=\"sk-item\"><div class=\"sk-estimator sk-toggleable\"><input class=\"sk-toggleable__control sk-hidden--visually\" id=\"564b7951-32e7-408c-8ddd-ffff090a9766\" type=\"checkbox\" ><label for=\"564b7951-32e7-408c-8ddd-ffff090a9766\" class=\"sk-toggleable__label sk-toggleable__label-arrow\">SimpleImputer</label><div class=\"sk-toggleable__content\"><pre>SimpleImputer()</pre></div></div></div></div></div></div><div class=\"sk-parallel-item\"><div class=\"sk-item\"><div class=\"sk-label-container\"><div class=\"sk-label sk-toggleable\"><input class=\"sk-toggleable__control sk-hidden--visually\" id=\"bee08c72-c8ac-4437-8023-77ec3e85f7ed\" type=\"checkbox\" ><label for=\"bee08c72-c8ac-4437-8023-77ec3e85f7ed\" class=\"sk-toggleable__label sk-toggleable__label-arrow\">onehotencoder</label><div class=\"sk-toggleable__content\"><pre>&lt;sklearn.compose._column_transformer.make_column_selector object at 0x7f55bb1b6dc0&gt;</pre></div></div></div><div class=\"sk-serial\"><div class=\"sk-item\"><div class=\"sk-estimator sk-toggleable\"><input class=\"sk-toggleable__control sk-hidden--visually\" id=\"b7378e94-8730-4120-ae32-6c9cd7dd8d5b\" type=\"checkbox\" ><label for=\"b7378e94-8730-4120-ae32-6c9cd7dd8d5b\" class=\"sk-toggleable__label sk-toggleable__label-arrow\">OneHotEncoder</label><div class=\"sk-toggleable__content\"><pre>OneHotEncoder(handle_unknown=&#x27;ignore&#x27;, sparse=False)</pre></div></div></div></div></div></div></div></div><div class=\"sk-item\"><div class=\"sk-estimator sk-toggleable\"><input class=\"sk-toggleable__control sk-hidden--visually\" id=\"322a8158-8ffb-4a30-8b71-46903b212f95\" type=\"checkbox\" ><label for=\"322a8158-8ffb-4a30-8b71-46903b212f95\" class=\"sk-toggleable__label sk-toggleable__label-arrow\">KNeighborsClassifier</label><div class=\"sk-toggleable__content\"><pre>KNeighborsClassifier(n_neighbors=3)</pre></div></div></div></div></div></div></div>"
            ]
          },
          "metadata": {},
          "execution_count": 88
        }
      ]
    },
    {
      "cell_type": "code",
      "source": [
        "# Save the model's predictions for the train dataset\n",
        "knn_train_preds_tuned = knn_tuned_pipe.predict(X_train)\n",
        "# Save the model's predictions for the test dataset\n",
        "knn_test_preds_tuned = knn_tuned_pipe.predict(X_test)"
      ],
      "metadata": {
        "id": "M0XO8G8JDHE2"
      },
      "execution_count": 89,
      "outputs": []
    },
    {
      "cell_type": "markdown",
      "source": [
        "#### Classification Metrics"
      ],
      "metadata": {
        "id": "5z9UJcwpEU7c"
      }
    },
    {
      "cell_type": "code",
      "source": [
        "# Save the Classification Report\n",
        "classification_metrics(knn_tuned_pipe, X_train,y_train, \n",
        "                         cmap='Blues', label='Training Data')\n",
        "classification_metrics(knn_tuned_pipe, X_test,y_test, \n",
        "                         cmap='Greens',label='Test Data')"
      ],
      "metadata": {
        "colab": {
          "base_uri": "https://localhost:8080/",
          "height": 1000
        },
        "id": "8zsLV0yPDwPD",
        "outputId": "c546f9d4-fc95-43df-ae25-59be15bb884d"
      },
      "execution_count": 93,
      "outputs": [
        {
          "output_type": "stream",
          "name": "stdout",
          "text": [
            "------------------------------------------------------------\n",
            "[i] CLASSIFICATION REPORT FOR: Training Data\n",
            "------------------------------------------------------------\n",
            "              precision    recall  f1-score   support\n",
            "\n",
            "           0       0.83      0.93      0.88       100\n",
            "           1       0.93      0.83      0.87       110\n",
            "\n",
            "    accuracy                           0.88       210\n",
            "   macro avg       0.88      0.88      0.88       210\n",
            "weighted avg       0.88      0.88      0.88       210\n",
            "\n"
          ]
        },
        {
          "output_type": "display_data",
          "data": {
            "text/plain": [
              "<Figure size 1080x360 with 3 Axes>"
            ],
            "image/png": "[encoded data removed]"
          },
          "metadata": {
            "needs_background": "light"
          }
        },
        {
          "output_type": "stream",
          "name": "stdout",
          "text": [
            "------------------------------------------------------------\n",
            "[i] CLASSIFICATION REPORT FOR: Test Data\n",
            "------------------------------------------------------------\n",
            "              precision    recall  f1-score   support\n",
            "\n",
            "           0       0.76      0.76      0.76        34\n",
            "           1       0.78      0.78      0.78        37\n",
            "\n",
            "    accuracy                           0.77        71\n",
            "   macro avg       0.77      0.77      0.77        71\n",
            "weighted avg       0.77      0.77      0.77        71\n",
            "\n"
          ]
        },
        {
          "output_type": "display_data",
          "data": {
            "text/plain": [
              "<Figure size 1080x360 with 3 Axes>"
            ],
            "image/png": "[encoded data removed]"
          },
          "metadata": {
            "needs_background": "light"
          }
        }
      ]
    },
    {
      "cell_type": "markdown",
      "source": [
        "## Final Model Recommendation\n",
        "\n",
        "* The Logistic Regression Model would be the best model to use for predicting the doctors' future treatment choices. \n",
        "\n",
        "* Comparing the KNN and Logistic Regression models you can see the clear advantage in the False Positive and False Negatives but I am more concerned with the False Negatives. The .14% chance compared to the .22% chance is a larger chance for future patients to go untreated which could lead to death. The lower False Positives is also a benefit but at least they would have treatments and other tests.\n",
        "\n"
      ],
      "metadata": {
        "id": "2xT4UzsPE_A6"
      }
    }
  ]
}